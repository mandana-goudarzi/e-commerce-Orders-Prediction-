{
 "cells": [
  {
   "cell_type": "markdown",
   "id": "f5d468a9",
   "metadata": {},
   "source": [
    "# Predicting E-Commerce Customer Satisfaction\n",
    "\n",
    "#### Team Members:\n",
    "- Carlotta Roversi (2156445)\n",
    "- Gabriela Novicka (2166623)\n",
    "- Cosimo Marco Gravili (2158325)\n",
    "- Mandana Goudarzi (2122279)\n",
    "\n",
    "\n",
    "\n",
    "## Project Overview\n",
    "\n",
    "This project aims to predict customer review scores in an e-commerce marketplace based on order, delivery, and product characteristics.\n",
    "\n",
    "By leveraging structured data on orders, products, delivery timelines, and customer demographics, we build machine learning models that can:\n",
    "\n",
    "- Classify review scores into **Low**, **Medium**, or **High**\n",
    "- Detect **anomalies** in review behavior\n",
    "\n",
    "## Why It Matters\n",
    "\n",
    "Understanding what drives customer satisfaction enables e-commerce platforms to:\n",
    "- Anticipate low reviews and act proactively\n",
    "- Optimize logistics and seller performance\n",
    "- Improve service reliability and trust\n",
    "\n",
    "The project follows a full pipeline from data preprocessing and EDA to model selection, tuning, and evaluation, including interpretability and anomaly detection.\n",
    "\n"
   ]
  },
  {
   "cell_type": "code",
   "execution_count": 157,
   "id": "2da09922-4adf-4a16-ba29-ac0fae73f3d6",
   "metadata": {},
   "outputs": [],
   "source": [
    "import pandas as pd\n",
    "import numpy as np\n",
    "import matplotlib.pyplot as plt\n",
    "import matplotlib as mpl\n",
    "import seaborn as sns\n",
    "from scipy.stats import ttest_ind\n",
    "from scipy.stats import spearmanr\n",
    "from scipy.stats import f_oneway\n",
    "import kagglehub\n",
    "from sklearn.impute import SimpleImputer\n",
    "from sklearn.preprocessing import OneHotEncoder\n",
    "from sklearn.compose import ColumnTransformer\n",
    "from imblearn.pipeline import Pipeline as ImbPipeline\n",
    "from sklearn.model_selection import train_test_split\n",
    "from sklearn.preprocessing import StandardScaler\n",
    "from sklearn.linear_model import LogisticRegression, LinearRegression\n",
    "from sklearn.metrics import classification_report, confusion_matrix, mean_absolute_error, mean_squared_error, root_mean_squared_error, r2_score\n",
    "from sklearn.ensemble import RandomForestClassifier, RandomForestRegressor\n",
    "from sklearn.model_selection import RandomizedSearchCV, StratifiedKFold\n",
    "from xgboost import XGBClassifier\n",
    "from sklearn.ensemble import IsolationForest\n",
    "from sklearn.preprocessing import LabelEncoder\n",
    "from imblearn.over_sampling import SMOTE\n",
    "%matplotlib inline  \n"
   ]
  },
  {
   "cell_type": "markdown",
   "id": "d457c039",
   "metadata": {},
   "source": [
    "## Data Collection & Merging\n",
    "\n",
    "In this section, we load and merge seven datasets provided by Fecom Inc., including customer, order, payment, product, seller, and review information. Each dataset is joined using its primary key (e.g., `Order_ID`, `Customer_Trx_ID`, etc.) to form a comprehensive `df_merged` DataFrame for analysis.\n"
   ]
  },
  {
   "cell_type": "code",
   "execution_count": 2,
   "id": "a02f7230-3d7c-4843-a3aa-10d86d4b705f",
   "metadata": {
    "scrolled": true
   },
   "outputs": [],
   "source": [
    "df_customers = pd.read_csv(\"Fecom Inc Customer List.csv\", sep=';')\n",
    "df_order_items = pd.read_csv(\"Fecom Inc Order Items.csv\", sep=';')\n",
    "df_order_payments = pd.read_csv(\"Fecom Inc Order Payments.csv\", sep=';')\n",
    "df_orders = pd.read_csv(\"Fecom Inc Orders.csv\", sep=';')\n",
    "df_products = pd.read_csv(\"Fecom Inc Products.csv\", sep=';')\n",
    "df_sellers = pd.read_csv(\"Fecom Inc Sellers List.csv\", sep=';')\n",
    "df_reviews = pd.read_csv('Fecom_Inc_Order_Reviews_No_Emojis.csv', sep=';')\n",
    "\n",
    "\n",
    "df_merged = (\n",
    "    df_orders\n",
    "    .merge(df_customers, on=\"Customer_Trx_ID\", how='inner')\n",
    "    .merge(df_order_items, on=\"Order_ID\", how='inner')\n",
    "    .merge(df_products, on=\"Product_ID\", how='inner')\n",
    "    .merge(df_sellers, on=\"Seller_ID\", how='inner')\n",
    "    .merge(df_reviews, on=\"Order_ID\", how='inner')\n",
    "    .merge(df_order_payments, on=\"Order_ID\", how='inner')\n",
    ")"
   ]
  },
  {
   "cell_type": "code",
   "execution_count": 3,
   "id": "9772c2dc",
   "metadata": {},
   "outputs": [
    {
     "name": "stdout",
     "output_type": "stream",
     "text": [
      "Shape of merged dataset: (117328, 43)\n"
     ]
    }
   ],
   "source": [
    "print(\"Shape of merged dataset:\", df_merged.shape)"
   ]
  },
  {
   "cell_type": "code",
   "execution_count": 4,
   "id": "6457f34e-7156-4bb4-a4f5-31e487bb5b2d",
   "metadata": {},
   "outputs": [
    {
     "name": "stdout",
     "output_type": "stream",
     "text": [
      "Column names after merging:\n",
      "Index(['Order_ID', 'Customer_Trx_ID', 'Order_Status',\n",
      "       'Order_Purchase_Timestamp', 'Order_Approved_At',\n",
      "       'Order_Delivered_Carrier_Date', 'Order_Delivered_Customer_Date',\n",
      "       'Order_Estimated_Delivery_Date', 'Subscriber_ID', 'Subscribe_Date',\n",
      "       'First_Order_Date', 'Customer_Postal_Code', 'Customer_City',\n",
      "       'Customer_Country', 'Customer_Country_Code', 'Age', 'Gender',\n",
      "       'Order_Item_ID', 'Product_ID', 'Seller_ID', 'Shipping_Limit_Date',\n",
      "       'Price', 'Freight_Value', 'Product_Category_Name', 'Product_Weight_Gr',\n",
      "       'Product_Length_Cm', 'Product_Height_Cm', 'Product_Width_Cm',\n",
      "       'Seller_Name', 'Seller_Postal_Code', 'Seller_City', 'Country_Code',\n",
      "       'Seller_Country', 'Review_ID', 'Review_Score',\n",
      "       'Review_Comment_Title_En', 'Review_Comment_Message_En',\n",
      "       'Review_Creation_Date', 'Review_Answer_Timestamp', 'Payment_Sequential',\n",
      "       'Payment_Type', 'Payment_Installments', 'Payment_Value'],\n",
      "      dtype='object')\n"
     ]
    }
   ],
   "source": [
    "print(f\"Column names after merging:\\n{df_merged.columns}\")\n"
   ]
  },
  {
   "cell_type": "code",
   "execution_count": 5,
   "id": "07efcb7d-b959-4799-8bde-2ed0a2f6a20c",
   "metadata": {},
   "outputs": [
    {
     "data": {
      "text/html": [
       "<div>\n",
       "<style scoped>\n",
       "    .dataframe tbody tr th:only-of-type {\n",
       "        vertical-align: middle;\n",
       "    }\n",
       "\n",
       "    .dataframe tbody tr th {\n",
       "        vertical-align: top;\n",
       "    }\n",
       "\n",
       "    .dataframe thead th {\n",
       "        text-align: right;\n",
       "    }\n",
       "</style>\n",
       "<table border=\"1\" class=\"dataframe\">\n",
       "  <thead>\n",
       "    <tr style=\"text-align: right;\">\n",
       "      <th></th>\n",
       "      <th>Order_ID</th>\n",
       "      <th>Customer_Trx_ID</th>\n",
       "      <th>Order_Status</th>\n",
       "      <th>Order_Purchase_Timestamp</th>\n",
       "      <th>Order_Approved_At</th>\n",
       "      <th>Order_Delivered_Carrier_Date</th>\n",
       "      <th>Order_Delivered_Customer_Date</th>\n",
       "      <th>Order_Estimated_Delivery_Date</th>\n",
       "      <th>Subscriber_ID</th>\n",
       "      <th>Subscribe_Date</th>\n",
       "      <th>...</th>\n",
       "      <th>Review_ID</th>\n",
       "      <th>Review_Score</th>\n",
       "      <th>Review_Comment_Title_En</th>\n",
       "      <th>Review_Comment_Message_En</th>\n",
       "      <th>Review_Creation_Date</th>\n",
       "      <th>Review_Answer_Timestamp</th>\n",
       "      <th>Payment_Sequential</th>\n",
       "      <th>Payment_Type</th>\n",
       "      <th>Payment_Installments</th>\n",
       "      <th>Payment_Value</th>\n",
       "    </tr>\n",
       "  </thead>\n",
       "  <tbody>\n",
       "    <tr>\n",
       "      <th>0</th>\n",
       "      <td>e481f51cbdc54678b7cc49136f2d6af7</td>\n",
       "      <td>9ef432eb6251297304e76186b10a928d</td>\n",
       "      <td>delivered</td>\n",
       "      <td>2023-10-02 10:56</td>\n",
       "      <td>2023-10-02 11:07</td>\n",
       "      <td>2023-10-04 19:55</td>\n",
       "      <td>2023-10-10 21:25</td>\n",
       "      <td>2023-10-18 00:00</td>\n",
       "      <td>7c396fd4830fd04220f754e42b4e5bff</td>\n",
       "      <td>2023-08-06</td>\n",
       "      <td>...</td>\n",
       "      <td>a54f0611adc9ed256b57ede6b6eb5114</td>\n",
       "      <td>4</td>\n",
       "      <td>NaN</td>\n",
       "      <td>I haven't tested the product yet, but it arriv...</td>\n",
       "      <td>2023-10-11 00:00</td>\n",
       "      <td>2023-10-12 03:43</td>\n",
       "      <td>1</td>\n",
       "      <td>credit_card</td>\n",
       "      <td>1</td>\n",
       "      <td>18.12</td>\n",
       "    </tr>\n",
       "    <tr>\n",
       "      <th>1</th>\n",
       "      <td>e481f51cbdc54678b7cc49136f2d6af7</td>\n",
       "      <td>9ef432eb6251297304e76186b10a928d</td>\n",
       "      <td>delivered</td>\n",
       "      <td>2023-10-02 10:56</td>\n",
       "      <td>2023-10-02 11:07</td>\n",
       "      <td>2023-10-04 19:55</td>\n",
       "      <td>2023-10-10 21:25</td>\n",
       "      <td>2023-10-18 00:00</td>\n",
       "      <td>7c396fd4830fd04220f754e42b4e5bff</td>\n",
       "      <td>2023-08-06</td>\n",
       "      <td>...</td>\n",
       "      <td>a54f0611adc9ed256b57ede6b6eb5114</td>\n",
       "      <td>4</td>\n",
       "      <td>NaN</td>\n",
       "      <td>I haven't tested the product yet, but it arriv...</td>\n",
       "      <td>2023-10-11 00:00</td>\n",
       "      <td>2023-10-12 03:43</td>\n",
       "      <td>3</td>\n",
       "      <td>voucher</td>\n",
       "      <td>1</td>\n",
       "      <td>2.00</td>\n",
       "    </tr>\n",
       "    <tr>\n",
       "      <th>2</th>\n",
       "      <td>e481f51cbdc54678b7cc49136f2d6af7</td>\n",
       "      <td>9ef432eb6251297304e76186b10a928d</td>\n",
       "      <td>delivered</td>\n",
       "      <td>2023-10-02 10:56</td>\n",
       "      <td>2023-10-02 11:07</td>\n",
       "      <td>2023-10-04 19:55</td>\n",
       "      <td>2023-10-10 21:25</td>\n",
       "      <td>2023-10-18 00:00</td>\n",
       "      <td>7c396fd4830fd04220f754e42b4e5bff</td>\n",
       "      <td>2023-08-06</td>\n",
       "      <td>...</td>\n",
       "      <td>a54f0611adc9ed256b57ede6b6eb5114</td>\n",
       "      <td>4</td>\n",
       "      <td>NaN</td>\n",
       "      <td>I haven't tested the product yet, but it arriv...</td>\n",
       "      <td>2023-10-11 00:00</td>\n",
       "      <td>2023-10-12 03:43</td>\n",
       "      <td>2</td>\n",
       "      <td>voucher</td>\n",
       "      <td>1</td>\n",
       "      <td>18.59</td>\n",
       "    </tr>\n",
       "    <tr>\n",
       "      <th>3</th>\n",
       "      <td>128e10d95713541c87cd1a2e48201934</td>\n",
       "      <td>a20e8105f23924cd00833fd87daa0831</td>\n",
       "      <td>delivered</td>\n",
       "      <td>2023-08-15 18:29</td>\n",
       "      <td>2023-08-15 20:05</td>\n",
       "      <td>2023-08-17 15:28</td>\n",
       "      <td>2023-08-18 14:44</td>\n",
       "      <td>2023-08-28 00:00</td>\n",
       "      <td>3a51803cc0d012c3b5dc8b7528cb05f7</td>\n",
       "      <td>2023-08-07</td>\n",
       "      <td>...</td>\n",
       "      <td>b46f1e34512b0f4c74a72398b03ca788</td>\n",
       "      <td>4</td>\n",
       "      <td>NaN</td>\n",
       "      <td>Product arrived on time. Well conditioned. But...</td>\n",
       "      <td>2023-08-19 00:00</td>\n",
       "      <td>2023-08-20 15:16</td>\n",
       "      <td>1</td>\n",
       "      <td>credit_card</td>\n",
       "      <td>3</td>\n",
       "      <td>37.77</td>\n",
       "    </tr>\n",
       "    <tr>\n",
       "      <th>4</th>\n",
       "      <td>0e7e841ddf8f8f2de2bad69267ecfbcf</td>\n",
       "      <td>26c7ac168e1433912a51b924fbd34d34</td>\n",
       "      <td>delivered</td>\n",
       "      <td>2023-08-02 18:24</td>\n",
       "      <td>2023-08-02 18:43</td>\n",
       "      <td>2023-08-04 17:35</td>\n",
       "      <td>2023-08-07 18:30</td>\n",
       "      <td>2023-08-15 00:00</td>\n",
       "      <td>ef0996a1a279c26e7ecbd737be23d235</td>\n",
       "      <td>2023-07-11</td>\n",
       "      <td>...</td>\n",
       "      <td>dc90f19c2806f1abba9e72ad3c350073</td>\n",
       "      <td>5</td>\n",
       "      <td>NaN</td>\n",
       "      <td>I only found it small for six cups, but it's a...</td>\n",
       "      <td>2023-08-08 00:00</td>\n",
       "      <td>2023-08-08 23:26</td>\n",
       "      <td>1</td>\n",
       "      <td>credit_card</td>\n",
       "      <td>1</td>\n",
       "      <td>37.77</td>\n",
       "    </tr>\n",
       "    <tr>\n",
       "      <th>5</th>\n",
       "      <td>bfc39df4f36c3693ff3b63fcbea9e90a</td>\n",
       "      <td>53904ddbea91e1e92b2b3f1d09a7af86</td>\n",
       "      <td>delivered</td>\n",
       "      <td>2023-10-23 23:26</td>\n",
       "      <td>2023-10-25 02:14</td>\n",
       "      <td>2023-10-27 16:48</td>\n",
       "      <td>2023-11-07 18:04</td>\n",
       "      <td>2023-11-13 00:00</td>\n",
       "      <td>e781fdcc107d13d865fc7698711cc572</td>\n",
       "      <td>2022-02-05</td>\n",
       "      <td>...</td>\n",
       "      <td>1bafb430e498b939f258b9c9dbdff9b1</td>\n",
       "      <td>3</td>\n",
       "      <td>NaN</td>\n",
       "      <td>NaN</td>\n",
       "      <td>2023-11-08 00:00</td>\n",
       "      <td>2023-11-10 19:52</td>\n",
       "      <td>1</td>\n",
       "      <td>debit_card</td>\n",
       "      <td>1</td>\n",
       "      <td>44.09</td>\n",
       "    </tr>\n",
       "    <tr>\n",
       "      <th>6</th>\n",
       "      <td>8736140c61ea584cb4250074756d8f3b</td>\n",
       "      <td>ab8844663ae049fda8baf15fc928f47f</td>\n",
       "      <td>delivered</td>\n",
       "      <td>2023-08-10 13:35</td>\n",
       "      <td>2023-08-10 13:50</td>\n",
       "      <td>2023-08-11 13:52</td>\n",
       "      <td>2023-08-16 19:03</td>\n",
       "      <td>2023-08-23 00:00</td>\n",
       "      <td>02c9e0c05a817d4562ec0e8c90f29dba</td>\n",
       "      <td>2023-07-28</td>\n",
       "      <td>...</td>\n",
       "      <td>b8238c6515192f8129081e17dc57d169</td>\n",
       "      <td>5</td>\n",
       "      <td>NaN</td>\n",
       "      <td>cost-benefit, simple to use and fast</td>\n",
       "      <td>2023-08-17 00:00</td>\n",
       "      <td>2023-08-21 12:43</td>\n",
       "      <td>1</td>\n",
       "      <td>credit_card</td>\n",
       "      <td>1</td>\n",
       "      <td>83.69</td>\n",
       "    </tr>\n",
       "    <tr>\n",
       "      <th>7</th>\n",
       "      <td>88407c8c6e12493ff6e845df39540112</td>\n",
       "      <td>e902cb9d9992a69a267f69dec57aa3a3</td>\n",
       "      <td>delivered</td>\n",
       "      <td>2023-08-15 02:03</td>\n",
       "      <td>2023-08-15 02:15</td>\n",
       "      <td>2023-08-16 15:52</td>\n",
       "      <td>2023-08-25 21:59</td>\n",
       "      <td>2023-08-28 00:00</td>\n",
       "      <td>28adbfbaf0b9c5e5a0555a8c853a7534</td>\n",
       "      <td>2023-08-12</td>\n",
       "      <td>...</td>\n",
       "      <td>186b702b3817fd5cc00b201b11764d63</td>\n",
       "      <td>4</td>\n",
       "      <td>NaN</td>\n",
       "      <td>Very good, the product arrived on time.</td>\n",
       "      <td>2023-08-26 00:00</td>\n",
       "      <td>2023-08-28 20:10</td>\n",
       "      <td>1</td>\n",
       "      <td>credit_card</td>\n",
       "      <td>2</td>\n",
       "      <td>83.69</td>\n",
       "    </tr>\n",
       "    <tr>\n",
       "      <th>8</th>\n",
       "      <td>4f2acff0b7d2bcc4a408abe5a223d407</td>\n",
       "      <td>d67b6cca5a87299f711a6961f579fe67</td>\n",
       "      <td>delivered</td>\n",
       "      <td>2023-08-01 16:31</td>\n",
       "      <td>2023-08-02 02:50</td>\n",
       "      <td>2023-08-03 14:36</td>\n",
       "      <td>2023-08-09 19:56</td>\n",
       "      <td>2023-08-23 00:00</td>\n",
       "      <td>aea90564d6f09ae11bf936f55ed49d72</td>\n",
       "      <td>2023-08-01</td>\n",
       "      <td>...</td>\n",
       "      <td>567900cb1263f2ee7341989937a789cc</td>\n",
       "      <td>5</td>\n",
       "      <td>NaN</td>\n",
       "      <td>NaN</td>\n",
       "      <td>2023-08-10 00:00</td>\n",
       "      <td>2023-08-11 21:08</td>\n",
       "      <td>1</td>\n",
       "      <td>debit_card</td>\n",
       "      <td>1</td>\n",
       "      <td>90.18</td>\n",
       "    </tr>\n",
       "    <tr>\n",
       "      <th>9</th>\n",
       "      <td>019aaee09698daf81dcffe9d94a18b5c</td>\n",
       "      <td>e3893e579755de4feb1a4d0313c103fa</td>\n",
       "      <td>delivered</td>\n",
       "      <td>2023-08-10 14:04</td>\n",
       "      <td>2023-08-10 14:23</td>\n",
       "      <td>2023-08-11 13:52</td>\n",
       "      <td>2023-08-12 11:56</td>\n",
       "      <td>2023-08-23 00:00</td>\n",
       "      <td>cd6b577df45c00daa6b2767eaa947c72</td>\n",
       "      <td>2023-08-10</td>\n",
       "      <td>...</td>\n",
       "      <td>43334848a48a7abf6faa2f8aba675b8a</td>\n",
       "      <td>2</td>\n",
       "      <td>NaN</td>\n",
       "      <td>everything went well with the store and delive...</td>\n",
       "      <td>2023-08-13 00:00</td>\n",
       "      <td>2023-08-14 12:24</td>\n",
       "      <td>1</td>\n",
       "      <td>credit_card</td>\n",
       "      <td>2</td>\n",
       "      <td>83.69</td>\n",
       "    </tr>\n",
       "    <tr>\n",
       "      <th>10</th>\n",
       "      <td>e37531db8933bdce0f86e9dc3768759e</td>\n",
       "      <td>74380820e581b5e8585abc1b5e11c079</td>\n",
       "      <td>delivered</td>\n",
       "      <td>2023-08-07 21:48</td>\n",
       "      <td>2023-08-07 22:25</td>\n",
       "      <td>2023-08-08 13:00</td>\n",
       "      <td>2023-08-16 11:42</td>\n",
       "      <td>2023-08-29 00:00</td>\n",
       "      <td>11f61cff2e9a4f0dc6fbbe30faa54b18</td>\n",
       "      <td>2023-07-19</td>\n",
       "      <td>...</td>\n",
       "      <td>e2da524e62e92bd275c2ad9805a80aa4</td>\n",
       "      <td>5</td>\n",
       "      <td>NaN</td>\n",
       "      <td>NaN</td>\n",
       "      <td>2023-08-17 00:00</td>\n",
       "      <td>2023-08-17 15:26</td>\n",
       "      <td>1</td>\n",
       "      <td>credit_card</td>\n",
       "      <td>1</td>\n",
       "      <td>90.18</td>\n",
       "    </tr>\n",
       "    <tr>\n",
       "      <th>11</th>\n",
       "      <td>a0151737f2f0c6c0a5fd69d45f66ceea</td>\n",
       "      <td>fc2697314ab7fbeda62bb6f1afa4efcd</td>\n",
       "      <td>delivered</td>\n",
       "      <td>2023-07-12 14:11</td>\n",
       "      <td>2023-07-12 14:30</td>\n",
       "      <td>2023-07-13 12:47</td>\n",
       "      <td>2023-07-18 16:24</td>\n",
       "      <td>2023-07-25 00:00</td>\n",
       "      <td>bdd30e6e39cc70dde8665187b57af402</td>\n",
       "      <td>2021-06-17</td>\n",
       "      <td>...</td>\n",
       "      <td>fa5bf792d42ed25f80c54d18aeaa83de</td>\n",
       "      <td>4</td>\n",
       "      <td>NaN</td>\n",
       "      <td>NaN</td>\n",
       "      <td>2023-07-19 00:00</td>\n",
       "      <td>2023-07-24 13:59</td>\n",
       "      <td>1</td>\n",
       "      <td>credit_card</td>\n",
       "      <td>2</td>\n",
       "      <td>52.77</td>\n",
       "    </tr>\n",
       "    <tr>\n",
       "      <th>12</th>\n",
       "      <td>a3bf941183211246f0d42ad757cba127</td>\n",
       "      <td>3718e1873d5dc3e8d96c0ab783278b02</td>\n",
       "      <td>delivered</td>\n",
       "      <td>2023-07-24 22:16</td>\n",
       "      <td>2023-07-25 22:25</td>\n",
       "      <td>2023-07-26 14:57</td>\n",
       "      <td>2023-07-28 19:06</td>\n",
       "      <td>2023-08-04 00:00</td>\n",
       "      <td>1bcb517dc3cc80868d2fa941174f386c</td>\n",
       "      <td>2023-07-24</td>\n",
       "      <td>...</td>\n",
       "      <td>5fe3f65882f521f0fbc41e59b9fbff24</td>\n",
       "      <td>4</td>\n",
       "      <td>NaN</td>\n",
       "      <td>Good products</td>\n",
       "      <td>2023-07-29 00:00</td>\n",
       "      <td>2023-08-01 20:06</td>\n",
       "      <td>1</td>\n",
       "      <td>credit_card</td>\n",
       "      <td>2</td>\n",
       "      <td>52.77</td>\n",
       "    </tr>\n",
       "    <tr>\n",
       "      <th>13</th>\n",
       "      <td>e8f1a30189522698bfce82adf60472e7</td>\n",
       "      <td>945080eedd200e670d94e8b707422871</td>\n",
       "      <td>delivered</td>\n",
       "      <td>2023-07-05 11:58</td>\n",
       "      <td>2023-07-05 17:38</td>\n",
       "      <td>2023-07-06 11:04</td>\n",
       "      <td>2023-07-07 20:44</td>\n",
       "      <td>2023-07-18 00:00</td>\n",
       "      <td>0e78d5d8e92c4454512d545b10be8585</td>\n",
       "      <td>2023-06-19</td>\n",
       "      <td>...</td>\n",
       "      <td>f08ff01cc53b9e3acd39659fd8008cb4</td>\n",
       "      <td>5</td>\n",
       "      <td>NaN</td>\n",
       "      <td>NaN</td>\n",
       "      <td>2023-07-08 00:00</td>\n",
       "      <td>2023-07-10 11:36</td>\n",
       "      <td>1</td>\n",
       "      <td>credit_card</td>\n",
       "      <td>2</td>\n",
       "      <td>52.77</td>\n",
       "    </tr>\n",
       "    <tr>\n",
       "      <th>14</th>\n",
       "      <td>e71fb32bec49dd4112bcbcc19126d388</td>\n",
       "      <td>f6c383cc79b182ce1550bc57504941c3</td>\n",
       "      <td>delivered</td>\n",
       "      <td>2023-08-02 22:12</td>\n",
       "      <td>2023-08-02 22:25</td>\n",
       "      <td>2023-08-04 13:39</td>\n",
       "      <td>2023-08-08 17:56</td>\n",
       "      <td>2023-08-15 00:00</td>\n",
       "      <td>59b5158dcd4ab8fce908aba30ea36cc9</td>\n",
       "      <td>2023-07-07</td>\n",
       "      <td>...</td>\n",
       "      <td>cb88f291b71e37563db00a6a0b5919c7</td>\n",
       "      <td>5</td>\n",
       "      <td>NaN</td>\n",
       "      <td>I highly recommend</td>\n",
       "      <td>2023-08-09 00:00</td>\n",
       "      <td>2023-08-10 01:33</td>\n",
       "      <td>1</td>\n",
       "      <td>credit_card</td>\n",
       "      <td>1</td>\n",
       "      <td>2.77</td>\n",
       "    </tr>\n",
       "    <tr>\n",
       "      <th>15</th>\n",
       "      <td>e71fb32bec49dd4112bcbcc19126d388</td>\n",
       "      <td>f6c383cc79b182ce1550bc57504941c3</td>\n",
       "      <td>delivered</td>\n",
       "      <td>2023-08-02 22:12</td>\n",
       "      <td>2023-08-02 22:25</td>\n",
       "      <td>2023-08-04 13:39</td>\n",
       "      <td>2023-08-08 17:56</td>\n",
       "      <td>2023-08-15 00:00</td>\n",
       "      <td>59b5158dcd4ab8fce908aba30ea36cc9</td>\n",
       "      <td>2023-07-07</td>\n",
       "      <td>...</td>\n",
       "      <td>cb88f291b71e37563db00a6a0b5919c7</td>\n",
       "      <td>5</td>\n",
       "      <td>NaN</td>\n",
       "      <td>I highly recommend</td>\n",
       "      <td>2023-08-09 00:00</td>\n",
       "      <td>2023-08-10 01:33</td>\n",
       "      <td>2</td>\n",
       "      <td>voucher</td>\n",
       "      <td>1</td>\n",
       "      <td>50.00</td>\n",
       "    </tr>\n",
       "    <tr>\n",
       "      <th>16</th>\n",
       "      <td>03eae39a27aeab0f8c9ad5b84555a6d1</td>\n",
       "      <td>d91337c4d268a8a9f17bef015ce9af3d</td>\n",
       "      <td>delivered</td>\n",
       "      <td>2023-08-15 10:23</td>\n",
       "      <td>2023-08-15 10:45</td>\n",
       "      <td>2023-08-16 15:52</td>\n",
       "      <td>2023-08-19 16:06</td>\n",
       "      <td>2023-08-28 00:00</td>\n",
       "      <td>f4f203a8ddb0c3e44212a6eaf379348e</td>\n",
       "      <td>2023-08-11</td>\n",
       "      <td>...</td>\n",
       "      <td>e6900bd37ec7a3f7b0f0a6c81034ee7d</td>\n",
       "      <td>5</td>\n",
       "      <td>NaN</td>\n",
       "      <td>NaN</td>\n",
       "      <td>2023-08-20 00:00</td>\n",
       "      <td>2023-08-21 19:16</td>\n",
       "      <td>1</td>\n",
       "      <td>credit_card</td>\n",
       "      <td>1</td>\n",
       "      <td>60.63</td>\n",
       "    </tr>\n",
       "    <tr>\n",
       "      <th>17</th>\n",
       "      <td>de01100645b731556de153cfbebc35b1</td>\n",
       "      <td>94602ee2b2723266d391c94e7d1f4d89</td>\n",
       "      <td>delivered</td>\n",
       "      <td>2023-08-07 12:13</td>\n",
       "      <td>2023-08-07 12:43</td>\n",
       "      <td>2023-08-08 13:32</td>\n",
       "      <td>2023-08-17 18:24</td>\n",
       "      <td>2023-08-29 00:00</td>\n",
       "      <td>3b63e7ae5d6058eb51567425722cff95</td>\n",
       "      <td>2022-03-09</td>\n",
       "      <td>...</td>\n",
       "      <td>ca7cb3748121ff40c9593af97a039ffb</td>\n",
       "      <td>5</td>\n",
       "      <td>NaN</td>\n",
       "      <td>I was very satisfied with the service and the ...</td>\n",
       "      <td>2023-08-18 00:00</td>\n",
       "      <td>2023-08-23 17:41</td>\n",
       "      <td>1</td>\n",
       "      <td>credit_card</td>\n",
       "      <td>5</td>\n",
       "      <td>60.09</td>\n",
       "    </tr>\n",
       "    <tr>\n",
       "      <th>18</th>\n",
       "      <td>1f201b2bf1eecbd0ad32c3f430846b84</td>\n",
       "      <td>856f3263eb7af3a48765c85d4d0eea1d</td>\n",
       "      <td>delivered</td>\n",
       "      <td>2023-09-26 21:32</td>\n",
       "      <td>2023-09-26 21:49</td>\n",
       "      <td>2023-09-28 15:28</td>\n",
       "      <td>2023-10-03 13:38</td>\n",
       "      <td>2023-10-11 00:00</td>\n",
       "      <td>8b8d696df5beff17e7cfef915f0d1d78</td>\n",
       "      <td>2023-09-26</td>\n",
       "      <td>...</td>\n",
       "      <td>677c67d89dafa61cb029b50d92a0686d</td>\n",
       "      <td>3</td>\n",
       "      <td>NaN</td>\n",
       "      <td>NaN</td>\n",
       "      <td>2023-10-04 00:00</td>\n",
       "      <td>2023-10-06 18:30</td>\n",
       "      <td>1</td>\n",
       "      <td>credit_card</td>\n",
       "      <td>4</td>\n",
       "      <td>60.63</td>\n",
       "    </tr>\n",
       "    <tr>\n",
       "      <th>19</th>\n",
       "      <td>84aaa1a774e37a0a7c1a5413dc49e168</td>\n",
       "      <td>7cc4123da344ba5ca2fa23c0f7903fce</td>\n",
       "      <td>delivered</td>\n",
       "      <td>2023-07-21 10:03</td>\n",
       "      <td>2023-07-21 10:23</td>\n",
       "      <td>2023-07-25 19:45</td>\n",
       "      <td>2023-07-26 21:13</td>\n",
       "      <td>2023-08-03 00:00</td>\n",
       "      <td>a6b38dcfe711532c6f588ca185770b2d</td>\n",
       "      <td>2023-06-13</td>\n",
       "      <td>...</td>\n",
       "      <td>6fda8978599edf0f42e3f19e90c51d79</td>\n",
       "      <td>5</td>\n",
       "      <td>NaN</td>\n",
       "      <td>NaN</td>\n",
       "      <td>2023-07-27 00:00</td>\n",
       "      <td>2023-07-28 14:11</td>\n",
       "      <td>1</td>\n",
       "      <td>credit_card</td>\n",
       "      <td>1</td>\n",
       "      <td>52.77</td>\n",
       "    </tr>\n",
       "  </tbody>\n",
       "</table>\n",
       "<p>20 rows × 43 columns</p>\n",
       "</div>"
      ],
      "text/plain": [
       "                            Order_ID                   Customer_Trx_ID  \\\n",
       "0   e481f51cbdc54678b7cc49136f2d6af7  9ef432eb6251297304e76186b10a928d   \n",
       "1   e481f51cbdc54678b7cc49136f2d6af7  9ef432eb6251297304e76186b10a928d   \n",
       "2   e481f51cbdc54678b7cc49136f2d6af7  9ef432eb6251297304e76186b10a928d   \n",
       "3   128e10d95713541c87cd1a2e48201934  a20e8105f23924cd00833fd87daa0831   \n",
       "4   0e7e841ddf8f8f2de2bad69267ecfbcf  26c7ac168e1433912a51b924fbd34d34   \n",
       "5   bfc39df4f36c3693ff3b63fcbea9e90a  53904ddbea91e1e92b2b3f1d09a7af86   \n",
       "6   8736140c61ea584cb4250074756d8f3b  ab8844663ae049fda8baf15fc928f47f   \n",
       "7   88407c8c6e12493ff6e845df39540112  e902cb9d9992a69a267f69dec57aa3a3   \n",
       "8   4f2acff0b7d2bcc4a408abe5a223d407  d67b6cca5a87299f711a6961f579fe67   \n",
       "9   019aaee09698daf81dcffe9d94a18b5c  e3893e579755de4feb1a4d0313c103fa   \n",
       "10  e37531db8933bdce0f86e9dc3768759e  74380820e581b5e8585abc1b5e11c079   \n",
       "11  a0151737f2f0c6c0a5fd69d45f66ceea  fc2697314ab7fbeda62bb6f1afa4efcd   \n",
       "12  a3bf941183211246f0d42ad757cba127  3718e1873d5dc3e8d96c0ab783278b02   \n",
       "13  e8f1a30189522698bfce82adf60472e7  945080eedd200e670d94e8b707422871   \n",
       "14  e71fb32bec49dd4112bcbcc19126d388  f6c383cc79b182ce1550bc57504941c3   \n",
       "15  e71fb32bec49dd4112bcbcc19126d388  f6c383cc79b182ce1550bc57504941c3   \n",
       "16  03eae39a27aeab0f8c9ad5b84555a6d1  d91337c4d268a8a9f17bef015ce9af3d   \n",
       "17  de01100645b731556de153cfbebc35b1  94602ee2b2723266d391c94e7d1f4d89   \n",
       "18  1f201b2bf1eecbd0ad32c3f430846b84  856f3263eb7af3a48765c85d4d0eea1d   \n",
       "19  84aaa1a774e37a0a7c1a5413dc49e168  7cc4123da344ba5ca2fa23c0f7903fce   \n",
       "\n",
       "   Order_Status Order_Purchase_Timestamp Order_Approved_At  \\\n",
       "0     delivered         2023-10-02 10:56  2023-10-02 11:07   \n",
       "1     delivered         2023-10-02 10:56  2023-10-02 11:07   \n",
       "2     delivered         2023-10-02 10:56  2023-10-02 11:07   \n",
       "3     delivered         2023-08-15 18:29  2023-08-15 20:05   \n",
       "4     delivered         2023-08-02 18:24  2023-08-02 18:43   \n",
       "5     delivered         2023-10-23 23:26  2023-10-25 02:14   \n",
       "6     delivered         2023-08-10 13:35  2023-08-10 13:50   \n",
       "7     delivered         2023-08-15 02:03  2023-08-15 02:15   \n",
       "8     delivered         2023-08-01 16:31  2023-08-02 02:50   \n",
       "9     delivered         2023-08-10 14:04  2023-08-10 14:23   \n",
       "10    delivered         2023-08-07 21:48  2023-08-07 22:25   \n",
       "11    delivered         2023-07-12 14:11  2023-07-12 14:30   \n",
       "12    delivered         2023-07-24 22:16  2023-07-25 22:25   \n",
       "13    delivered         2023-07-05 11:58  2023-07-05 17:38   \n",
       "14    delivered         2023-08-02 22:12  2023-08-02 22:25   \n",
       "15    delivered         2023-08-02 22:12  2023-08-02 22:25   \n",
       "16    delivered         2023-08-15 10:23  2023-08-15 10:45   \n",
       "17    delivered         2023-08-07 12:13  2023-08-07 12:43   \n",
       "18    delivered         2023-09-26 21:32  2023-09-26 21:49   \n",
       "19    delivered         2023-07-21 10:03  2023-07-21 10:23   \n",
       "\n",
       "   Order_Delivered_Carrier_Date Order_Delivered_Customer_Date  \\\n",
       "0              2023-10-04 19:55              2023-10-10 21:25   \n",
       "1              2023-10-04 19:55              2023-10-10 21:25   \n",
       "2              2023-10-04 19:55              2023-10-10 21:25   \n",
       "3              2023-08-17 15:28              2023-08-18 14:44   \n",
       "4              2023-08-04 17:35              2023-08-07 18:30   \n",
       "5              2023-10-27 16:48              2023-11-07 18:04   \n",
       "6              2023-08-11 13:52              2023-08-16 19:03   \n",
       "7              2023-08-16 15:52              2023-08-25 21:59   \n",
       "8              2023-08-03 14:36              2023-08-09 19:56   \n",
       "9              2023-08-11 13:52              2023-08-12 11:56   \n",
       "10             2023-08-08 13:00              2023-08-16 11:42   \n",
       "11             2023-07-13 12:47              2023-07-18 16:24   \n",
       "12             2023-07-26 14:57              2023-07-28 19:06   \n",
       "13             2023-07-06 11:04              2023-07-07 20:44   \n",
       "14             2023-08-04 13:39              2023-08-08 17:56   \n",
       "15             2023-08-04 13:39              2023-08-08 17:56   \n",
       "16             2023-08-16 15:52              2023-08-19 16:06   \n",
       "17             2023-08-08 13:32              2023-08-17 18:24   \n",
       "18             2023-09-28 15:28              2023-10-03 13:38   \n",
       "19             2023-07-25 19:45              2023-07-26 21:13   \n",
       "\n",
       "   Order_Estimated_Delivery_Date                     Subscriber_ID  \\\n",
       "0               2023-10-18 00:00  7c396fd4830fd04220f754e42b4e5bff   \n",
       "1               2023-10-18 00:00  7c396fd4830fd04220f754e42b4e5bff   \n",
       "2               2023-10-18 00:00  7c396fd4830fd04220f754e42b4e5bff   \n",
       "3               2023-08-28 00:00  3a51803cc0d012c3b5dc8b7528cb05f7   \n",
       "4               2023-08-15 00:00  ef0996a1a279c26e7ecbd737be23d235   \n",
       "5               2023-11-13 00:00  e781fdcc107d13d865fc7698711cc572   \n",
       "6               2023-08-23 00:00  02c9e0c05a817d4562ec0e8c90f29dba   \n",
       "7               2023-08-28 00:00  28adbfbaf0b9c5e5a0555a8c853a7534   \n",
       "8               2023-08-23 00:00  aea90564d6f09ae11bf936f55ed49d72   \n",
       "9               2023-08-23 00:00  cd6b577df45c00daa6b2767eaa947c72   \n",
       "10              2023-08-29 00:00  11f61cff2e9a4f0dc6fbbe30faa54b18   \n",
       "11              2023-07-25 00:00  bdd30e6e39cc70dde8665187b57af402   \n",
       "12              2023-08-04 00:00  1bcb517dc3cc80868d2fa941174f386c   \n",
       "13              2023-07-18 00:00  0e78d5d8e92c4454512d545b10be8585   \n",
       "14              2023-08-15 00:00  59b5158dcd4ab8fce908aba30ea36cc9   \n",
       "15              2023-08-15 00:00  59b5158dcd4ab8fce908aba30ea36cc9   \n",
       "16              2023-08-28 00:00  f4f203a8ddb0c3e44212a6eaf379348e   \n",
       "17              2023-08-29 00:00  3b63e7ae5d6058eb51567425722cff95   \n",
       "18              2023-10-11 00:00  8b8d696df5beff17e7cfef915f0d1d78   \n",
       "19              2023-08-03 00:00  a6b38dcfe711532c6f588ca185770b2d   \n",
       "\n",
       "   Subscribe_Date  ...                         Review_ID Review_Score  \\\n",
       "0      2023-08-06  ...  a54f0611adc9ed256b57ede6b6eb5114            4   \n",
       "1      2023-08-06  ...  a54f0611adc9ed256b57ede6b6eb5114            4   \n",
       "2      2023-08-06  ...  a54f0611adc9ed256b57ede6b6eb5114            4   \n",
       "3      2023-08-07  ...  b46f1e34512b0f4c74a72398b03ca788            4   \n",
       "4      2023-07-11  ...  dc90f19c2806f1abba9e72ad3c350073            5   \n",
       "5      2022-02-05  ...  1bafb430e498b939f258b9c9dbdff9b1            3   \n",
       "6      2023-07-28  ...  b8238c6515192f8129081e17dc57d169            5   \n",
       "7      2023-08-12  ...  186b702b3817fd5cc00b201b11764d63            4   \n",
       "8      2023-08-01  ...  567900cb1263f2ee7341989937a789cc            5   \n",
       "9      2023-08-10  ...  43334848a48a7abf6faa2f8aba675b8a            2   \n",
       "10     2023-07-19  ...  e2da524e62e92bd275c2ad9805a80aa4            5   \n",
       "11     2021-06-17  ...  fa5bf792d42ed25f80c54d18aeaa83de            4   \n",
       "12     2023-07-24  ...  5fe3f65882f521f0fbc41e59b9fbff24            4   \n",
       "13     2023-06-19  ...  f08ff01cc53b9e3acd39659fd8008cb4            5   \n",
       "14     2023-07-07  ...  cb88f291b71e37563db00a6a0b5919c7            5   \n",
       "15     2023-07-07  ...  cb88f291b71e37563db00a6a0b5919c7            5   \n",
       "16     2023-08-11  ...  e6900bd37ec7a3f7b0f0a6c81034ee7d            5   \n",
       "17     2022-03-09  ...  ca7cb3748121ff40c9593af97a039ffb            5   \n",
       "18     2023-09-26  ...  677c67d89dafa61cb029b50d92a0686d            3   \n",
       "19     2023-06-13  ...  6fda8978599edf0f42e3f19e90c51d79            5   \n",
       "\n",
       "   Review_Comment_Title_En                          Review_Comment_Message_En  \\\n",
       "0                      NaN  I haven't tested the product yet, but it arriv...   \n",
       "1                      NaN  I haven't tested the product yet, but it arriv...   \n",
       "2                      NaN  I haven't tested the product yet, but it arriv...   \n",
       "3                      NaN  Product arrived on time. Well conditioned. But...   \n",
       "4                      NaN  I only found it small for six cups, but it's a...   \n",
       "5                      NaN                                                NaN   \n",
       "6                      NaN               cost-benefit, simple to use and fast   \n",
       "7                      NaN            Very good, the product arrived on time.   \n",
       "8                      NaN                                                NaN   \n",
       "9                      NaN  everything went well with the store and delive...   \n",
       "10                     NaN                                                NaN   \n",
       "11                     NaN                                                NaN   \n",
       "12                     NaN                                      Good products   \n",
       "13                     NaN                                                NaN   \n",
       "14                     NaN                                I highly recommend    \n",
       "15                     NaN                                I highly recommend    \n",
       "16                     NaN                                                NaN   \n",
       "17                     NaN  I was very satisfied with the service and the ...   \n",
       "18                     NaN                                                NaN   \n",
       "19                     NaN                                                NaN   \n",
       "\n",
       "   Review_Creation_Date  Review_Answer_Timestamp Payment_Sequential  \\\n",
       "0      2023-10-11 00:00         2023-10-12 03:43                  1   \n",
       "1      2023-10-11 00:00         2023-10-12 03:43                  3   \n",
       "2      2023-10-11 00:00         2023-10-12 03:43                  2   \n",
       "3      2023-08-19 00:00         2023-08-20 15:16                  1   \n",
       "4      2023-08-08 00:00         2023-08-08 23:26                  1   \n",
       "5      2023-11-08 00:00         2023-11-10 19:52                  1   \n",
       "6      2023-08-17 00:00         2023-08-21 12:43                  1   \n",
       "7      2023-08-26 00:00         2023-08-28 20:10                  1   \n",
       "8      2023-08-10 00:00         2023-08-11 21:08                  1   \n",
       "9      2023-08-13 00:00         2023-08-14 12:24                  1   \n",
       "10     2023-08-17 00:00         2023-08-17 15:26                  1   \n",
       "11     2023-07-19 00:00         2023-07-24 13:59                  1   \n",
       "12     2023-07-29 00:00         2023-08-01 20:06                  1   \n",
       "13     2023-07-08 00:00         2023-07-10 11:36                  1   \n",
       "14     2023-08-09 00:00         2023-08-10 01:33                  1   \n",
       "15     2023-08-09 00:00         2023-08-10 01:33                  2   \n",
       "16     2023-08-20 00:00         2023-08-21 19:16                  1   \n",
       "17     2023-08-18 00:00         2023-08-23 17:41                  1   \n",
       "18     2023-10-04 00:00         2023-10-06 18:30                  1   \n",
       "19     2023-07-27 00:00         2023-07-28 14:11                  1   \n",
       "\n",
       "    Payment_Type Payment_Installments Payment_Value  \n",
       "0    credit_card                    1         18.12  \n",
       "1        voucher                    1          2.00  \n",
       "2        voucher                    1         18.59  \n",
       "3    credit_card                    3         37.77  \n",
       "4    credit_card                    1         37.77  \n",
       "5     debit_card                    1         44.09  \n",
       "6    credit_card                    1         83.69  \n",
       "7    credit_card                    2         83.69  \n",
       "8     debit_card                    1         90.18  \n",
       "9    credit_card                    2         83.69  \n",
       "10   credit_card                    1         90.18  \n",
       "11   credit_card                    2         52.77  \n",
       "12   credit_card                    2         52.77  \n",
       "13   credit_card                    2         52.77  \n",
       "14   credit_card                    1          2.77  \n",
       "15       voucher                    1         50.00  \n",
       "16   credit_card                    1         60.63  \n",
       "17   credit_card                    5         60.09  \n",
       "18   credit_card                    4         60.63  \n",
       "19   credit_card                    1         52.77  \n",
       "\n",
       "[20 rows x 43 columns]"
      ]
     },
     "execution_count": 5,
     "metadata": {},
     "output_type": "execute_result"
    }
   ],
   "source": [
    "df_merged.head(20)"
   ]
  },
  {
   "cell_type": "markdown",
   "id": "a37a9861-4158-4c65-a698-e10ca1a31a78",
   "metadata": {},
   "source": [
    "## Data Cleaning & Preprocessing\n",
    "\n",
    "After merging the datasets, we clean and prepare the data for analysis and modeling.\n"
   ]
  },
  {
   "cell_type": "markdown",
   "id": "7f7665c0",
   "metadata": {},
   "source": [
    "### Dropped Columns\n",
    "We remove ID fields and other metadata that are not predictive or contain redundant information"
   ]
  },
  {
   "cell_type": "code",
   "execution_count": 6,
   "id": "07be1136-731a-459a-9b13-28c31898b130",
   "metadata": {},
   "outputs": [
    {
     "name": "stdout",
     "output_type": "stream",
     "text": [
      "Remanining columns after dropping unnecessary ones:\n",
      "Index(['Order_Status', 'Order_Purchase_Timestamp',\n",
      "       'Order_Delivered_Customer_Date', 'Order_Estimated_Delivery_Date',\n",
      "       'Customer_Country', 'Customer_Country_Code', 'Age', 'Gender',\n",
      "       'Shipping_Limit_Date', 'Price', 'Freight_Value',\n",
      "       'Product_Category_Name', 'Product_Weight_Gr', 'Product_Length_Cm',\n",
      "       'Product_Height_Cm', 'Product_Width_Cm', 'Seller_Name', 'Country_Code',\n",
      "       'Seller_Country', 'Review_Score', 'Payment_Type', 'Payment_Value'],\n",
      "      dtype='object')\n"
     ]
    }
   ],
   "source": [
    "df = df_merged.drop(['Customer_Trx_ID', 'Product_ID', 'Order_ID', 'Seller_ID', 'Subscriber_ID', 'Subscribe_Date', 'Order_Item_ID', 'First_Order_Date', 'Order_Approved_At','Order_Delivered_Carrier_Date', 'Customer_Postal_Code', 'Customer_City', 'Review_ID', \n",
    "                      'Review_Comment_Title_En', 'Review_Creation_Date', 'Review_Comment_Message_En','Review_Answer_Timestamp','Payment_Sequential', \n",
    "                     'Seller_Postal_Code','Seller_City', 'Seller_Postal_Code','Payment_Installments'], axis=1)\n",
    "print(f\"Remanining columns after dropping unnecessary ones:\\n{df.columns}\")"
   ]
  },
  {
   "cell_type": "markdown",
   "id": "92e2c7cf-ee71-467b-b5ba-ec75a31938db",
   "metadata": {},
   "source": [
    "### Missing Value Handling\n",
    "We check for missing values and handle them based on column type:\n",
    "- **Categorical** (e.g., `Product_Category_Name`): filled with `\"Unknown\"`\n",
    "- **Numeric** (e.g., weight and dimensions): filled with median values\n",
    "- **Datetime** (e.g., `Order_Delivered_Customer_Date`): dropped if missing (critical to delivery time)\n"
   ]
  },
  {
   "cell_type": "code",
   "execution_count": 7,
   "id": "ca2a7f8b-8eb2-412e-b5cf-08f922a79c6e",
   "metadata": {},
   "outputs": [],
   "source": [
    "def columns_with_missing_values(df):\n",
    "    missing_columns = df.columns[df.isnull().any()].tolist()\n",
    "    if missing_columns:\n",
    "        print(\"Columns with missing values:\")\n",
    "        for col in missing_columns:\n",
    "            print(f\"- {col}\")\n",
    "    else:\n",
    "        print(\"No columns contain missing values.\")\n"
   ]
  },
  {
   "cell_type": "code",
   "execution_count": 8,
   "id": "9fbebab7-50e6-4ae7-a73b-9747bc0da749",
   "metadata": {},
   "outputs": [
    {
     "name": "stdout",
     "output_type": "stream",
     "text": [
      "Columns with missing values:\n",
      "- Order_Delivered_Customer_Date\n",
      "- Product_Category_Name\n",
      "- Product_Weight_Gr\n",
      "- Product_Length_Cm\n",
      "- Product_Height_Cm\n",
      "- Product_Width_Cm\n"
     ]
    }
   ],
   "source": [
    "columns_with_missing_values(df)\n"
   ]
  },
  {
   "cell_type": "code",
   "execution_count": 9,
   "id": "d5412535-d736-40de-a30e-4f3c92d43007",
   "metadata": {},
   "outputs": [
    {
     "name": "stdout",
     "output_type": "stream",
     "text": [
      "                               Missing #  Missing %\n",
      "Order_Delivered_Customer_Date       2471       2.11\n",
      "Product_Category_Name               1720       1.47\n",
      "Product_Weight_Gr                     20       0.02\n",
      "Product_Width_Cm                      20       0.02\n",
      "Product_Height_Cm                     20       0.02\n",
      "Product_Length_Cm                     20       0.02\n",
      "Payment_Type                           0       0.00\n",
      "Review_Score                           0       0.00\n",
      "Seller_Country                         0       0.00\n",
      "Country_Code                           0       0.00\n",
      "Seller_Name                            0       0.00\n",
      "Order_Status                           0       0.00\n",
      "Order_Purchase_Timestamp               0       0.00\n",
      "Freight_Value                          0       0.00\n",
      "Price                                  0       0.00\n",
      "Shipping_Limit_Date                    0       0.00\n",
      "Gender                                 0       0.00\n",
      "Age                                    0       0.00\n",
      "Customer_Country_Code                  0       0.00\n",
      "Customer_Country                       0       0.00\n",
      "Order_Estimated_Delivery_Date          0       0.00\n",
      "Payment_Value                          0       0.00\n"
     ]
    }
   ],
   "source": [
    "n_null = df.isnull().sum()\n",
    "#print(f\"Number of missing values:{n_null}\")\n",
    "\n",
    "p_null = (df.isnull().mean() * 100).round(2)\n",
    "\n",
    "summary_null = pd.DataFrame({\n",
    "    'Missing #': n_null,\n",
    "    'Missing %': p_null\n",
    "}).sort_values(by='Missing %', ascending=False)\n",
    "\n",
    "print(summary_null)"
   ]
  },
  {
   "cell_type": "code",
   "execution_count": 10,
   "id": "b78c62c3-1e44-4873-9642-7a6954471276",
   "metadata": {},
   "outputs": [],
   "source": [
    "#Convert date columns to datetime, keep NaT for missing\n",
    "df['Order_Delivered_Customer_Date'] = pd.to_datetime(df['Order_Delivered_Customer_Date'], errors='coerce') #coerce is usefull because if we have a missing date it'll become 'Nat'= Not a Time\n",
    "df1 = df.copy().dropna(subset=['Order_Delivered_Customer_Date'])\n",
    "\n",
    "#Fill categorical missing values with 'unknown'\n",
    "df1 = df1.copy()\n",
    "df1['Product_Category_Name'] = df1['Product_Category_Name'].fillna(\"Unknown\")\n",
    "\n",
    "#Fill numeric missing values with median\n",
    "num_cols = ['Product_Weight_Gr', 'Product_Length_Cm', 'Product_Height_Cm', 'Product_Width_Cm']\n",
    "for col in num_cols:\n",
    "    df1.loc[:,col] = df1[col].fillna(df1[col].median())\n"
   ]
  },
  {
   "cell_type": "code",
   "execution_count": 11,
   "id": "f0f59432-c2b4-4397-b996-64e4dba2b098",
   "metadata": {},
   "outputs": [
    {
     "data": {
      "text/plain": [
       "Order_Status                     0\n",
       "Order_Purchase_Timestamp         0\n",
       "Order_Delivered_Customer_Date    0\n",
       "Order_Estimated_Delivery_Date    0\n",
       "Customer_Country                 0\n",
       "Customer_Country_Code            0\n",
       "Age                              0\n",
       "Gender                           0\n",
       "Shipping_Limit_Date              0\n",
       "Price                            0\n",
       "Freight_Value                    0\n",
       "Product_Category_Name            0\n",
       "Product_Weight_Gr                0\n",
       "Product_Length_Cm                0\n",
       "Product_Height_Cm                0\n",
       "Product_Width_Cm                 0\n",
       "Seller_Name                      0\n",
       "Country_Code                     0\n",
       "Seller_Country                   0\n",
       "Review_Score                     0\n",
       "Payment_Type                     0\n",
       "Payment_Value                    0\n",
       "dtype: int64"
      ]
     },
     "execution_count": 11,
     "metadata": {},
     "output_type": "execute_result"
    }
   ],
   "source": [
    "df1.isnull().sum()"
   ]
  },
  {
   "cell_type": "markdown",
   "id": "305d7730-d08c-4a19-bb89-f62be8a23b9a",
   "metadata": {},
   "source": [
    "### Feature Engineering\n",
    "We create several derived features to support classification and prediction:\n",
    "\n",
    "\n",
    "- **`Is_late`**: 1 if the order was delivered after the estimated date\n",
    "- **`Has_left_review`**: 1 if review exists (later dropped as it’s constant)\n",
    "- **`Gave_Low_Score`**: True if review score ≤ 2\n",
    "- **`Review_Class`**: Categorical label derived from `Review_Score` (Low/Medium/High)\n",
    "- **`Age_group`**: Binned customer age into `Young`, `Adult`, `Senior`\n",
    "- **`Delivery_Time_Days`**: Number of days between order and delivery\n",
    "- **`Avg_delivery_time`**: Average delivery duration per (seller country, customer country) pair\n",
    "- **`Package_Volume`**: Product volume as a proxy for delivery effort"
   ]
  },
  {
   "cell_type": "code",
   "execution_count": 12,
   "id": "f6f90780-9edd-4cf1-88b6-43c31259dd74",
   "metadata": {},
   "outputs": [],
   "source": [
    "df1['Order_Delivered_Customer_Date'] = pd.to_datetime(df1['Order_Delivered_Customer_Date'], dayfirst=True).dt.normalize()\n",
    "df1['Order_Estimated_Delivery_Date'] = pd.to_datetime(df1['Order_Estimated_Delivery_Date'], dayfirst=True).dt.normalize()\n",
    "df1['Order_Purchase_Timestamp'] = pd.to_datetime(df1['Order_Purchase_Timestamp'], dayfirst=True).dt.normalize()"
   ]
  },
  {
   "cell_type": "code",
   "execution_count": 13,
   "id": "04443b0e-db12-4964-bed2-7c9c5e7a39a7",
   "metadata": {
    "scrolled": true
   },
   "outputs": [],
   "source": [
    "#if an order arrived after the estimated delivery date it will be marked as 1 in the variable 'is_late'\n",
    "df1['Is_late'] = (df1['Order_Delivered_Customer_Date'] > df1['Order_Estimated_Delivery_Date']).astype(int)\n",
    "\n",
    "#'Has_left_review' has value 1 if the customer left a review and 0 otherwise\n",
    "#'Gave_Low_Score' shows True if 'Review_Score' is below 2\n",
    "df1['Has_left_review'] = np.where(df1['Review_Score'].isnull(), 0, 1)\n",
    "df1['Gave_Low_Score'] = df1['Review_Score'].fillna(0) <= 2\n",
    "\n",
    "def review_class(score):\n",
    "    if score <= 2:\n",
    "        return 'Low'\n",
    "    elif score == 3:\n",
    "        return 'Medium'\n",
    "    else:\n",
    "        return 'High'\n",
    "\n",
    "df1['Review_Class'] = df1['Review_Score'].apply(review_class)\n",
    "df1['Review_Class'].value_counts()\n",
    "\n",
    "#we divide the clients based on their age in three classes\n",
    "df1['Age_group'] = pd.cut(df1['Age'], bins=[0, 25, 59, 120], labels=[\"Young\", \"Adult\", \"Senior\"])\n",
    "\n",
    "#we find the delivery time days as the difference of the date of delivery and the date of purchase\n",
    "df1 = df1[df1['Order_Delivered_Customer_Date'] >= df1['Order_Purchase_Timestamp']]\n",
    "df1['Delivery_Time_Days'] = (df1['Order_Delivered_Customer_Date'] - df1['Order_Purchase_Timestamp']).dt.days\n",
    "\n",
    "#we find for each pairs of seller country and cunstomer country the mean of the delivery time days \n",
    "avg_delivery = df1.groupby(['Seller_Country', 'Customer_Country'])['Delivery_Time_Days'].mean().reset_index()\n",
    "avg_delivery.rename(columns={'Delivery_Time_Days': 'Avg_delivery_time'}, inplace=True)\n",
    "df1 = df1.merge(avg_delivery, on=['Seller_Country', 'Customer_Country'], how='left')\n",
    "\n",
    "#volume \n",
    "df1['Package_Volume'] = df1['Product_Height_Cm'] * df1['Product_Length_Cm'] * df1['Product_Width_Cm']"
   ]
  },
  {
   "cell_type": "code",
   "execution_count": 14,
   "id": "f045d70f-cc2d-4a73-98af-1020958eea2c",
   "metadata": {},
   "outputs": [
    {
     "data": {
      "text/plain": [
       "1    114857\n",
       "Name: Has_left_review, dtype: int64"
      ]
     },
     "execution_count": 14,
     "metadata": {},
     "output_type": "execute_result"
    }
   ],
   "source": [
    "df1['Has_left_review'].value_counts()"
   ]
  },
  {
   "cell_type": "markdown",
   "id": "7caa0843-afef-45c9-a4d8-ef02dc17c927",
   "metadata": {},
   "source": [
    "## Exploratory Data Analysis (EDA)\n",
    "\n",
    "In this section, we explore the distribution of key features such as gender, age, customer geography, and review scores. This helps us understand customer behavior patterns and potential drivers of satisfaction.\n",
    "\n",
    "---\n",
    "\n",
    "### Gender Distribution"
   ]
  },
  {
   "cell_type": "code",
   "execution_count": 15,
   "id": "7877597c-089f-4c2d-8aed-818453f8584f",
   "metadata": {},
   "outputs": [
    {
     "data": {
      "image/png": "[encoded data removed]",
      "text/plain": [
       "<Figure size 600x600 with 1 Axes>"
      ]
     },
     "metadata": {},
     "output_type": "display_data"
    }
   ],
   "source": [
    "genders = df1['Gender'].value_counts()\n",
    "\n",
    "plt.figure(figsize=(6, 6))\n",
    "plt.pie(genders, labels=genders.index, autopct='%1.1f%%', startangle=90)\n",
    "plt.title(\"Gender Distribution\")\n",
    "plt.legend(title=\"Gender\", loc=\"best\")\n",
    "plt.show()\n"
   ]
  },
  {
   "cell_type": "markdown",
   "id": "aefde5f8",
   "metadata": {},
   "source": [
    "---\n",
    "\n",
    "### Age Distribution\n"
   ]
  },
  {
   "cell_type": "code",
   "execution_count": 16,
   "id": "3a0a0c77-bdef-4876-99f1-5a4e5e034008",
   "metadata": {},
   "outputs": [
    {
     "data": {
      "image/png": "[encoded data removed]",
      "text/plain": [
       "<Figure size 800x400 with 1 Axes>"
      ]
     },
     "metadata": {},
     "output_type": "display_data"
    }
   ],
   "source": [
    "plt.figure(figsize=(8, 4))\n",
    "sns.histplot(data=df1, x='Age', bins=20, kde=True, stat='percent')\n",
    "plt.title(\"Age Distribution\")\n",
    "plt.ylabel(\"% of Total Customers\")\n",
    "plt.xlabel(\"Age\")\n",
    "plt.tight_layout()\n",
    "plt.show()\n"
   ]
  },
  {
   "cell_type": "markdown",
   "id": "75be6446",
   "metadata": {},
   "source": [
    "---\n",
    "\n",
    "### Customer Country Distribution\n"
   ]
  },
  {
   "cell_type": "code",
   "execution_count": 17,
   "id": "f79587f3-4aaf-402a-a3d6-d493189eec67",
   "metadata": {},
   "outputs": [
    {
     "data": {
      "image/png": "[encoded data removed]",
      "text/plain": [
       "<Figure size 1000x400 with 1 Axes>"
      ]
     },
     "metadata": {},
     "output_type": "display_data"
    }
   ],
   "source": [
    "top_countries = df1['Customer_Country'].value_counts().head(10)\n",
    "\n",
    "plt.figure(figsize=(10, 4))\n",
    "top_countries.plot(kind='bar', color='orange')\n",
    "plt.title(\"Top 10 Customer Countries\")\n",
    "plt.xlabel(\"Country\")\n",
    "plt.ylabel(\"Number of Orders\")\n",
    "plt.xticks(rotation=45)\n",
    "plt.tight_layout()\n",
    "plt.show()\n"
   ]
  },
  {
   "cell_type": "markdown",
   "id": "c00412aa",
   "metadata": {},
   "source": [
    "---\n",
    "\n",
    "###  Review Score Distribution by Gender\n"
   ]
  },
  {
   "cell_type": "code",
   "execution_count": 171,
   "id": "4dd710d1-54ff-4c57-abed-105e4cdf94ef",
   "metadata": {},
   "outputs": [
    {
     "data": {
      "image/png": "[encoded data removed]",
      "text/plain": [
       "<Figure size 1800x600 with 3 Axes>"
      ]
     },
     "metadata": {},
     "output_type": "display_data"
    }
   ],
   "source": [
    "plt.figure(figsize=(18, 6))\n",
    "\n",
    "# Total\n",
    "plt.subplot(1, 3, 1)\n",
    "sns.histplot(df1['Review_Score'], bins=5, kde=False, color='green', stat='percent')\n",
    "plt.xticks([1, 2, 3, 4, 5])\n",
    "plt.title(\"Review Score - Total\")\n",
    "plt.xlabel(\"Review Score\")\n",
    "plt.ylabel(\"% of Total Reviews\")\n",
    "\n",
    "# Female\n",
    "plt.subplot(1, 3, 2)\n",
    "sns.histplot(df1[df1['Gender'] == 'Female']['Review_Score'], bins=5, kde=False, color='pink', stat='percent')\n",
    "plt.title(\"Review Score - Females\")\n",
    "plt.xlabel(\"Review Score\")\n",
    "\n",
    "# Male\n",
    "plt.subplot(1, 3, 3)\n",
    "sns.histplot(df1[df1['Gender'] == 'Male']['Review_Score'], bins=5, kde=False, color='blue', stat='percent')\n",
    "plt.title(\"Review Score - Males\")\n",
    "plt.xlabel(\"Review Score\")\n",
    "\n",
    "plt.tight_layout()\n",
    "plt.show()\n"
   ]
  },
  {
   "cell_type": "markdown",
   "id": "ade4c05c",
   "metadata": {},
   "source": [
    "---\n",
    "\n",
    "### Review Score vs. Gender (Boxplot)\n"
   ]
  },
  {
   "cell_type": "code",
   "execution_count": 19,
   "id": "6b399375-e7d3-4951-a2ce-d1a35a456d8e",
   "metadata": {},
   "outputs": [
    {
     "data": {
      "image/png": "[encoded data removed]",
      "text/plain": [
       "<Figure size 800x600 with 1 Axes>"
      ]
     },
     "metadata": {},
     "output_type": "display_data"
    },
    {
     "name": "stdout",
     "output_type": "stream",
     "text": [
      "Average Review Score by Gender:\n",
      "Gender\n",
      "Female    4.077606\n",
      "Male      4.082608\n",
      "Name: Review_Score, dtype: float64\n"
     ]
    }
   ],
   "source": [
    "plt.figure(figsize=(8, 6))\n",
    "sns.boxplot(data=df1, x='Gender', y='Review_Score')\n",
    "plt.title('Distribution of Review Score by Gender')\n",
    "plt.ylabel('Review Score')\n",
    "plt.xlabel('Gender')\n",
    "plt.tight_layout()\n",
    "plt.show()\n",
    "\n",
    "# Print average review scores by gender\n",
    "average_scores = df1.groupby('Gender')['Review_Score'].mean()\n",
    "print(\"Average Review Score by Gender:\")\n",
    "print(average_scores)\n"
   ]
  },
  {
   "cell_type": "markdown",
   "id": "b194f1a2-3868-498d-a87d-6d4195a9cdb7",
   "metadata": {},
   "source": [
    "By observing the boxplots divided by gender for the review scores, we confirm that the average customer rating is very high, but there does not appear to be a visible difference in ratings between genders. In fact, looking at the numerical averages, they are practically the same: males gave an average rating of 4.036175, while females gave an average of 4.021721."
   ]
  },
  {
   "cell_type": "code",
   "execution_count": 20,
   "id": "54976344-75e6-4013-a915-a568c3cfcd1a",
   "metadata": {},
   "outputs": [
    {
     "data": {
      "text/html": [
       "<div>\n",
       "<style scoped>\n",
       "    .dataframe tbody tr th:only-of-type {\n",
       "        vertical-align: middle;\n",
       "    }\n",
       "\n",
       "    .dataframe tbody tr th {\n",
       "        vertical-align: top;\n",
       "    }\n",
       "\n",
       "    .dataframe thead th {\n",
       "        text-align: right;\n",
       "    }\n",
       "</style>\n",
       "<table border=\"1\" class=\"dataframe\">\n",
       "  <thead>\n",
       "    <tr style=\"text-align: right;\">\n",
       "      <th></th>\n",
       "      <th>Age</th>\n",
       "      <th>Price</th>\n",
       "      <th>Freight_Value</th>\n",
       "      <th>Product_Weight_Gr</th>\n",
       "      <th>Product_Length_Cm</th>\n",
       "      <th>Product_Height_Cm</th>\n",
       "      <th>Product_Width_Cm</th>\n",
       "      <th>Review_Score</th>\n",
       "      <th>Payment_Value</th>\n",
       "      <th>Is_late</th>\n",
       "      <th>Has_left_review</th>\n",
       "      <th>Delivery_Time_Days</th>\n",
       "      <th>Avg_delivery_time</th>\n",
       "      <th>Package_Volume</th>\n",
       "    </tr>\n",
       "  </thead>\n",
       "  <tbody>\n",
       "    <tr>\n",
       "      <th>count</th>\n",
       "      <td>114857.000000</td>\n",
       "      <td>114857.000000</td>\n",
       "      <td>114857.000000</td>\n",
       "      <td>114857.000000</td>\n",
       "      <td>114857.000000</td>\n",
       "      <td>114857.000000</td>\n",
       "      <td>114857.000000</td>\n",
       "      <td>114857.000000</td>\n",
       "      <td>114857.000000</td>\n",
       "      <td>114857.000000</td>\n",
       "      <td>114857.0</td>\n",
       "      <td>114857.000000</td>\n",
       "      <td>114857.000000</td>\n",
       "      <td>114857.000000</td>\n",
       "    </tr>\n",
       "    <tr>\n",
       "      <th>mean</th>\n",
       "      <td>38.263719</td>\n",
       "      <td>119.770566</td>\n",
       "      <td>19.974517</td>\n",
       "      <td>2103.298110</td>\n",
       "      <td>30.226055</td>\n",
       "      <td>16.571389</td>\n",
       "      <td>23.058699</td>\n",
       "      <td>4.080439</td>\n",
       "      <td>171.254042</td>\n",
       "      <td>0.064123</td>\n",
       "      <td>1.0</td>\n",
       "      <td>12.422273</td>\n",
       "      <td>12.422273</td>\n",
       "      <td>15271.560802</td>\n",
       "    </tr>\n",
       "    <tr>\n",
       "      <th>std</th>\n",
       "      <td>13.415836</td>\n",
       "      <td>181.425093</td>\n",
       "      <td>15.703468</td>\n",
       "      <td>3769.214289</td>\n",
       "      <td>16.111515</td>\n",
       "      <td>13.416409</td>\n",
       "      <td>11.726057</td>\n",
       "      <td>1.347679</td>\n",
       "      <td>263.766598</td>\n",
       "      <td>0.244973</td>\n",
       "      <td>0.0</td>\n",
       "      <td>9.422248</td>\n",
       "      <td>4.350717</td>\n",
       "      <td>23400.593082</td>\n",
       "    </tr>\n",
       "    <tr>\n",
       "      <th>min</th>\n",
       "      <td>18.000000</td>\n",
       "      <td>0.850000</td>\n",
       "      <td>0.000000</td>\n",
       "      <td>0.000000</td>\n",
       "      <td>7.000000</td>\n",
       "      <td>2.000000</td>\n",
       "      <td>6.000000</td>\n",
       "      <td>1.000000</td>\n",
       "      <td>0.000000</td>\n",
       "      <td>0.000000</td>\n",
       "      <td>1.0</td>\n",
       "      <td>0.000000</td>\n",
       "      <td>2.000000</td>\n",
       "      <td>168.000000</td>\n",
       "    </tr>\n",
       "    <tr>\n",
       "      <th>25%</th>\n",
       "      <td>28.000000</td>\n",
       "      <td>39.900000</td>\n",
       "      <td>13.080000</td>\n",
       "      <td>300.000000</td>\n",
       "      <td>18.000000</td>\n",
       "      <td>8.000000</td>\n",
       "      <td>15.000000</td>\n",
       "      <td>4.000000</td>\n",
       "      <td>60.720000</td>\n",
       "      <td>0.000000</td>\n",
       "      <td>1.0</td>\n",
       "      <td>7.000000</td>\n",
       "      <td>7.898638</td>\n",
       "      <td>2856.000000</td>\n",
       "    </tr>\n",
       "    <tr>\n",
       "      <th>50%</th>\n",
       "      <td>36.000000</td>\n",
       "      <td>74.900000</td>\n",
       "      <td>16.280000</td>\n",
       "      <td>700.000000</td>\n",
       "      <td>25.000000</td>\n",
       "      <td>13.000000</td>\n",
       "      <td>20.000000</td>\n",
       "      <td>5.000000</td>\n",
       "      <td>108.000000</td>\n",
       "      <td>0.000000</td>\n",
       "      <td>1.0</td>\n",
       "      <td>10.000000</td>\n",
       "      <td>12.240772</td>\n",
       "      <td>6561.000000</td>\n",
       "    </tr>\n",
       "    <tr>\n",
       "      <th>75%</th>\n",
       "      <td>48.000000</td>\n",
       "      <td>132.900000</td>\n",
       "      <td>21.150000</td>\n",
       "      <td>1800.000000</td>\n",
       "      <td>38.000000</td>\n",
       "      <td>20.000000</td>\n",
       "      <td>30.000000</td>\n",
       "      <td>5.000000</td>\n",
       "      <td>188.690000</td>\n",
       "      <td>0.000000</td>\n",
       "      <td>1.0</td>\n",
       "      <td>16.000000</td>\n",
       "      <td>16.010956</td>\n",
       "      <td>18375.000000</td>\n",
       "    </tr>\n",
       "    <tr>\n",
       "      <th>max</th>\n",
       "      <td>74.000000</td>\n",
       "      <td>6735.000000</td>\n",
       "      <td>409.680000</td>\n",
       "      <td>40425.000000</td>\n",
       "      <td>105.000000</td>\n",
       "      <td>105.000000</td>\n",
       "      <td>118.000000</td>\n",
       "      <td>5.000000</td>\n",
       "      <td>13664.080000</td>\n",
       "      <td>1.000000</td>\n",
       "      <td>1.0</td>\n",
       "      <td>209.000000</td>\n",
       "      <td>139.000000</td>\n",
       "      <td>296208.000000</td>\n",
       "    </tr>\n",
       "  </tbody>\n",
       "</table>\n",
       "</div>"
      ],
      "text/plain": [
       "                 Age          Price  Freight_Value  Product_Weight_Gr  \\\n",
       "count  114857.000000  114857.000000  114857.000000      114857.000000   \n",
       "mean       38.263719     119.770566      19.974517        2103.298110   \n",
       "std        13.415836     181.425093      15.703468        3769.214289   \n",
       "min        18.000000       0.850000       0.000000           0.000000   \n",
       "25%        28.000000      39.900000      13.080000         300.000000   \n",
       "50%        36.000000      74.900000      16.280000         700.000000   \n",
       "75%        48.000000     132.900000      21.150000        1800.000000   \n",
       "max        74.000000    6735.000000     409.680000       40425.000000   \n",
       "\n",
       "       Product_Length_Cm  Product_Height_Cm  Product_Width_Cm   Review_Score  \\\n",
       "count      114857.000000      114857.000000     114857.000000  114857.000000   \n",
       "mean           30.226055          16.571389         23.058699       4.080439   \n",
       "std            16.111515          13.416409         11.726057       1.347679   \n",
       "min             7.000000           2.000000          6.000000       1.000000   \n",
       "25%            18.000000           8.000000         15.000000       4.000000   \n",
       "50%            25.000000          13.000000         20.000000       5.000000   \n",
       "75%            38.000000          20.000000         30.000000       5.000000   \n",
       "max           105.000000         105.000000        118.000000       5.000000   \n",
       "\n",
       "       Payment_Value        Is_late  Has_left_review  Delivery_Time_Days  \\\n",
       "count  114857.000000  114857.000000         114857.0       114857.000000   \n",
       "mean      171.254042       0.064123              1.0           12.422273   \n",
       "std       263.766598       0.244973              0.0            9.422248   \n",
       "min         0.000000       0.000000              1.0            0.000000   \n",
       "25%        60.720000       0.000000              1.0            7.000000   \n",
       "50%       108.000000       0.000000              1.0           10.000000   \n",
       "75%       188.690000       0.000000              1.0           16.000000   \n",
       "max     13664.080000       1.000000              1.0          209.000000   \n",
       "\n",
       "       Avg_delivery_time  Package_Volume  \n",
       "count      114857.000000   114857.000000  \n",
       "mean           12.422273    15271.560802  \n",
       "std             4.350717    23400.593082  \n",
       "min             2.000000      168.000000  \n",
       "25%             7.898638     2856.000000  \n",
       "50%            12.240772     6561.000000  \n",
       "75%            16.010956    18375.000000  \n",
       "max           139.000000   296208.000000  "
      ]
     },
     "execution_count": 20,
     "metadata": {},
     "output_type": "execute_result"
    }
   ],
   "source": [
    "df1.describe()"
   ]
  },
  {
   "cell_type": "markdown",
   "id": "a0fab98a",
   "metadata": {},
   "source": [
    "---\n",
    "\n",
    "### Correlation Analysis\n",
    "\n",
    "We explore how numeric features relate to each other and to review scores.\n"
   ]
  },
  {
   "cell_type": "code",
   "execution_count": 21,
   "id": "3bdea3ca-fe5f-4ca5-93da-e809bc9423a9",
   "metadata": {},
   "outputs": [
    {
     "data": {
      "text/plain": [
       "Text(0.5, 1.0, 'Correlation Matrix')"
      ]
     },
     "execution_count": 21,
     "metadata": {},
     "output_type": "execute_result"
    },
    {
     "data": {
      "image/png": "[encoded data removed]",
      "text/plain": [
       "<Figure size 1000x800 with 2 Axes>"
      ]
     },
     "metadata": {},
     "output_type": "display_data"
    }
   ],
   "source": [
    "#Encoding of categorical variables\n",
    "df1['Gender_dummy'] = df1['Gender'].map({'Male': 1, 'Female': 0})\n",
    " \n",
    "correlation = df1.drop(columns=['Has_left_review', 'Gave_Low_Score']).corr(numeric_only=True)\n",
    "\n",
    "plt.figure(figsize=(10,8))\n",
    "sns.heatmap(correlation, annot=True, cmap=\"coolwarm\", fmt=\".2f\")\n",
    "plt.title('Correlation Matrix')\n"
   ]
  },
  {
   "cell_type": "markdown",
   "id": "2161106c",
   "metadata": {},
   "source": [
    "This heatmap shows relationships between numeric features.\n",
    "\n",
    "- `Is_late` and `Delivery_Time_Days` are **negatively correlated** with `Review_Score`, suggesting late or long deliveries lead to lower scores.\n",
    "- Strong correlations among product dimensions and volume.\n",
    "- `Payment_Value` is closely tied to `Price`.\n",
    "\n",
    "These insights support our feature selection for modeling.\n"
   ]
  },
  {
   "cell_type": "code",
   "execution_count": 22,
   "id": "e85f0aaf-2cda-458a-b7ae-f20b6bd3c952",
   "metadata": {},
   "outputs": [],
   "source": [
    "seller_dummies = pd.get_dummies(df1['Seller_Country'], prefix='Seller')\n",
    "customer_dummies = pd.get_dummies(df1['Customer_Country'], prefix='Customer')\n",
    "categories_dummies = pd.get_dummies(df1['Product_Category_Name'], prefix='Product_Cat')\n",
    "df1 = pd.concat([df1, seller_dummies, customer_dummies, categories_dummies], axis=1)"
   ]
  },
  {
   "cell_type": "markdown",
   "id": "8250c8f3-f759-43f0-8bea-8cb15a76373f",
   "metadata": {},
   "source": [
    "## Hypothesis Testing\n",
    "\n",
    "We perform statistical tests to examine differences in review scores based on gender, delivery timing, and customer age.\n"
   ]
  },
  {
   "cell_type": "code",
   "execution_count": 23,
   "id": "a39506f9",
   "metadata": {},
   "outputs": [
    {
     "name": "stdout",
     "output_type": "stream",
     "text": [
      "T-test (Male vs Female): t=0.62, p=0.5330\n",
      "T-test (Late vs On-time): t=-128.60, p=0.0000\n",
      "Spearman Correlation: r = 0.0131, p = 0.0000\n"
     ]
    }
   ],
   "source": [
    "from scipy.stats import ttest_ind, spearmanr\n",
    "\n",
    "# T-test: Male vs Female\n",
    "male_scores = df1[df1['Gender'] == 'Male']['Review_Score']\n",
    "female_scores = df1[df1['Gender'] == 'Female']['Review_Score']\n",
    "\n",
    "t_stat, p_value = ttest_ind(male_scores, female_scores, nan_policy='omit')\n",
    "print(f\"T-test (Male vs Female): t={t_stat:.2f}, p={p_value:.4f}\")\n",
    "\n",
    "# T-test: Late vs On-time\n",
    "late_scores = df1[df1['Is_late'] == 1]['Review_Score']\n",
    "on_time_scores = df1[df1['Is_late'] == 0]['Review_Score']\n",
    "\n",
    "t_stat, p_value = ttest_ind(late_scores, on_time_scores, nan_policy='omit')\n",
    "print(f\"T-test (Late vs On-time): t={t_stat:.2f}, p={p_value:.4f}\")\n",
    "\n",
    "# Spearman correlation: Age vs Review Score\n",
    "corr, p_value = spearmanr(df1['Age'], df1['Review_Score'])\n",
    "print(f\"Spearman Correlation: r = {corr:.4f}, p = {p_value:.4f}\")\n"
   ]
  },
  {
   "cell_type": "markdown",
   "id": "88313d0e",
   "metadata": {},
   "source": [
    "\n",
    "**Gender**: No significant difference between male and female review scores  \n",
    "\n",
    "**Delivery timing**: A strong significant difference exists  **late deliveries receive lower scores**\n",
    "\n",
    "**Age**: Weak but statistically significant positive correlation with review score  "
   ]
  },
  {
   "cell_type": "markdown",
   "id": "3a2d9103-5fa5-4711-a0c9-4128fdfb22ed",
   "metadata": {},
   "source": [
    "## Modeling\n",
    "\n",
    "This section covers **classification** (predicting review score class). Several models are evaluated and compared."
   ]
  },
  {
   "cell_type": "markdown",
   "id": "4fcc49d3",
   "metadata": {},
   "source": [
    "### Features Used\n",
    "We selected a mix of numerical and categorical variables that are likely to influence customer review scores:\n"
   ]
  },
  {
   "cell_type": "code",
   "execution_count": 137,
   "id": "ad2c773b",
   "metadata": {},
   "outputs": [],
   "source": [
    "features = ['Gender_dummy','Package_Volume', 'Age', 'Is_late', 'Delivery_Time_Days',\n",
    "    'Avg_delivery_time', 'Product_Weight_Gr', 'Freight_Value',  'Payment_Value', 'Seller_Country', 'Customer_Country', 'Product_Category_Name']\n",
    "target = 'Review_Class'"
   ]
  },
  {
   "cell_type": "code",
   "execution_count": 138,
   "id": "1bd00553",
   "metadata": {},
   "outputs": [],
   "source": [
    "cat_features = ['Seller_Country', 'Customer_Country', 'Product_Category_Name']\n",
    "num_features = ['Gender_dummy', 'Is_late', 'Delivery_Time_Days','Package_Volume', 'Age', 'Freight_Value', 'Product_Weight_Gr', 'Avg_delivery_time']"
   ]
  },
  {
   "cell_type": "markdown",
   "id": "eb99a2c9",
   "metadata": {},
   "source": [
    "### Preprocessing\n",
    "- Numerical features are standardized using `StandardScaler`\n",
    "- Categorical features are one-hot encoded using `OneHotEncoder`"
   ]
  },
  {
   "cell_type": "code",
   "execution_count": 139,
   "id": "05806f50",
   "metadata": {},
   "outputs": [],
   "source": [
    "# transformers\n",
    "numeric_transformer = StandardScaler()\n",
    "categorical_transformer = OneHotEncoder(handle_unknown='ignore')\n",
    "\n",
    "# column transformer\n",
    "preprocessor = ColumnTransformer(\n",
    "    transformers=[\n",
    "        ('num', numeric_transformer, num_features),\n",
    "        ('cat', categorical_transformer, cat_features)\n",
    "    ])\n"
   ]
  },
  {
   "cell_type": "markdown",
   "id": "e0e6ef67",
   "metadata": {},
   "source": [
    "### Train/Validation/Test Split\n",
    "The labeled data is split as follows:\n",
    "- **80% training set**\n",
    "- **10% validation set**\n",
    "- **10% test set**\n",
    "\n",
    "Stratified splitting is used to preserve class distribution of `Review_Class` across all subsets."
   ]
  },
  {
   "cell_type": "code",
   "execution_count": 140,
   "id": "4a98ce39",
   "metadata": {},
   "outputs": [
    {
     "name": "stdout",
     "output_type": "stream",
     "text": [
      "Train shape: (91885, 12)\n",
      "Validation shape: (11486, 12)\n",
      "Test shape: (11486, 12)\n"
     ]
    }
   ],
   "source": [
    "# Feature matrix and target\n",
    "X = df1[features]\n",
    "y = df1[target]\n",
    "\n",
    "label_encoder = LabelEncoder()\n",
    "y_encoded = label_encoder.fit_transform(y)\n",
    "\n",
    "# Train (80%) and Temp (20%)\n",
    "X_train, X_temp, y_train, y_temp = train_test_split(\n",
    "    X, y_encoded, test_size=0.2, stratify=y_encoded, random_state=42)\n",
    "\n",
    "X_val, X_test, y_val, y_test = train_test_split(\n",
    "    X_temp, y_temp, test_size=0.5, stratify=y_temp, random_state=42)\n",
    "\n",
    "print(\"Train shape:\", X_train.shape)\n",
    "print(\"Validation shape:\", X_val.shape)\n",
    "print(\"Test shape:\", X_test.shape)"
   ]
  },
  {
   "cell_type": "code",
   "execution_count": 141,
   "id": "5ddec082",
   "metadata": {},
   "outputs": [
    {
     "data": {
      "text/plain": [
       "array([70552, 13613,  7720])"
      ]
     },
     "execution_count": 141,
     "metadata": {},
     "output_type": "execute_result"
    }
   ],
   "source": [
    "np.bincount(y_train)"
   ]
  },
  {
   "cell_type": "markdown",
   "id": "cae44723",
   "metadata": {},
   "source": [
    "## Logistic Regression with SMOTE\n",
    "\n",
    "To address class imbalance in the `Review_Class` target, we use a pipeline that includes:\n",
    "\n",
    "- **Preprocessing**: scaling numeric and one-hot encoding categorical features\n",
    "- **SMOTE**: synthetic minority over-sampling to balance class distributions in the training set\n",
    "- **Logistic Regression**: a simple, interpretable classification model\n"
   ]
  },
  {
   "cell_type": "code",
   "execution_count": 147,
   "id": "4855d641",
   "metadata": {},
   "outputs": [
    {
     "name": "stdout",
     "output_type": "stream",
     "text": [
      "Logistic Regression - Validation Set Performance:\n",
      "              precision    recall  f1-score   support\n",
      "\n",
      "           0       0.83      0.61      0.70      8819\n",
      "           1       0.41      0.35      0.38      1702\n",
      "           2       0.10      0.39      0.16       965\n",
      "\n",
      "    accuracy                           0.55     11486\n",
      "   macro avg       0.45      0.45      0.41     11486\n",
      "weighted avg       0.71      0.55      0.61     11486\n",
      "\n",
      "Confusion Matrix:\n",
      "[[5357  704 2758]\n",
      " [ 614  593  495]\n",
      " [ 454  138  373]]\n"
     ]
    }
   ],
   "source": [
    "# scale + classify\n",
    "logreg_pipeline = ImbPipeline(steps=[\n",
    "    ('preprocessor', preprocessor),\n",
    "    ('smote', SMOTE(random_state=42)),\n",
    "    ('classifier', LogisticRegression(max_iter=1000))\n",
    "])\n",
    "\n",
    "logreg_pipeline.fit(X_train, y_train)\n",
    "\n",
    "y_val_pred = logreg_pipeline.predict(X_val)\n",
    "\n",
    "print(\"Logistic Regression - Validation Set Performance:\")\n",
    "print(classification_report(y_val, y_val_pred, zero_division=0))\n",
    "print(\"Confusion Matrix:\")\n",
    "print(confusion_matrix(y_val, y_val_pred))\n"
   ]
  },
  {
   "cell_type": "markdown",
   "id": "aaa37b55",
   "metadata": {},
   "source": [
    "### Validation Results\n",
    "The model was evaluated on the validation set, with the following performance:\n",
    "\n",
    "- **Accuracy**: 55%\n",
    "- **Macro F1-score**: 0.41\n",
    "- **Weighted F1-score**: 0.61\n",
    "##### Class-wise performance:\n",
    "- **Class 0 (High)**: Precision 0.83, Recall 0.61 — strong but not perfect\n",
    "- **Class 1 (Low)**: Moderate precision and recall\n",
    "- **Class 2 (Medium)**: Low precision but **improved recall (0.39)** due to SMOTE\n",
    "##### Confusion Matrix Highlights:\n",
    "- The model confuses many class 0 and class 2 samples\n",
    "- **SMOTE helped improve recall for the underrepresented Medium class**, but overall accuracy dropped as a trade-off\n",
    "\n",
    "This model demonstrates that while oversampling can help balance recall, logistic regression may not capture the complexity of the data as well as tree-based models."
   ]
  },
  {
   "cell_type": "markdown",
   "id": "abbbc2f4",
   "metadata": {},
   "source": [
    "## Random Forest with SMOTE\n",
    "\n",
    "To improve classification performance on underrepresented classes, we use a pipeline combining:\n",
    "\n",
    "- **Preprocessing**: scaling and one-hot encoding\n",
    "- **SMOTE**: synthetic over-sampling to balance classes in the training set\n",
    "- **Random Forest**: a robust ensemble model that handles complex relationships and non-linearity\n",
    "\n"
   ]
  },
  {
   "cell_type": "code",
   "execution_count": 148,
   "id": "62adf8b8",
   "metadata": {},
   "outputs": [
    {
     "name": "stdout",
     "output_type": "stream",
     "text": [
      "Balanced RF - Validation Performance:\n",
      "              precision    recall  f1-score   support\n",
      "\n",
      "           0       0.86      0.93      0.89      8819\n",
      "           1       0.66      0.56      0.60      1702\n",
      "           2       0.45      0.24      0.32       965\n",
      "\n",
      "    accuracy                           0.81     11486\n",
      "   macro avg       0.66      0.58      0.60     11486\n",
      "weighted avg       0.79      0.81      0.80     11486\n",
      "\n",
      "[[8169  412  238]\n",
      " [ 696  956   50]\n",
      " [ 638   91  236]]\n"
     ]
    }
   ],
   "source": [
    "smote = SMOTE(random_state=42)\n",
    "rf_balanced = ImbPipeline(steps=[\n",
    "    ('preprocessor', preprocessor),\n",
    "    ('smote', smote),\n",
    "    ('classifier', RandomForestClassifier(\n",
    "        n_estimators=100, \n",
    "        class_weight=None,\n",
    "        random_state=42))\n",
    "])\n",
    "\n",
    "rf_balanced.fit(X_train, y_train)\n",
    "y_val_bal = rf_balanced.predict(X_val)\n",
    "\n",
    "print(\"Balanced RF - Validation Performance:\")\n",
    "print(classification_report(y_val, y_val_bal))\n",
    "print(confusion_matrix(y_val, y_val_bal))\n"
   ]
  },
  {
   "cell_type": "markdown",
   "id": "e0ec75b2",
   "metadata": {},
   "source": [
    "### Validation Results\n",
    "\n",
    "- **Accuracy**: 81%\n",
    "- **Macro F1-score**: 0.60\n",
    "- **Weighted F1-score**: 0.80\n",
    "\n",
    "##### Class-wise Performance:\n",
    "- **Class 0 (High reviews)**: Excellent — F1 = 0.89, Recall = 93%\n",
    "- **Class 1 (Low reviews)**: Decent — F1 = 0.60, Recall = 56%\n",
    "- **Class 2 (Medium reviews)**: Noticeable improvement — Recall = 24%, F1 = 0.32\n",
    "\n",
    "##### Confusion Matrix Insights\n",
    "- Most Medium-class predictions are still confused with High and Low\n",
    "- SMOTE improves the recall for both Low and Medium, without harming High\n",
    "- Better overall class balance than with Logistic Regression\n",
    "\n",
    "This model strikes a solid balance between overall accuracy and recall improvement for minority classes, making it a strong candidate for the final model."
   ]
  },
  {
   "cell_type": "markdown",
   "id": "2e59966a",
   "metadata": {},
   "source": [
    "## Random Forest Hyperparameter Tuning (RandomizedSearchCV)\n",
    "\n",
    "To optimize our Random Forest model, we applied **RandomizedSearchCV** over a wide parameter grid, including:\n",
    "\n",
    "- `n_estimators`: number of trees\n",
    "- `max_depth`: maximum tree depth\n",
    "- `min_samples_split`: minimum samples to split a node\n",
    "- `min_samples_leaf`: minimum samples in leaf nodes\n",
    "- `max_features`: number of features considered at each split\n",
    "- `bootstrap`: whether bootstrapping is used\n",
    "\n",
    "We used:\n",
    "- `n_iter=30` for 30 random combinations\n",
    "- `f1_weighted` as the scoring metric\n",
    "- 3-fold cross-validation\n"
   ]
  },
  {
   "cell_type": "code",
   "execution_count": 150,
   "id": "1010d639",
   "metadata": {},
   "outputs": [
    {
     "name": "stdout",
     "output_type": "stream",
     "text": [
      "Fitting 3 folds for each of 30 candidates, totalling 90 fits\n",
      "[CV] END classifier__bootstrap=False, classifier__max_depth=None, classifier__max_features=sqrt, classifier__min_samples_leaf=4, classifier__min_samples_split=10, classifier__n_estimators=200; total time= 5.2min\n",
      "[CV] END classifier__bootstrap=False, classifier__max_depth=None, classifier__max_features=sqrt, classifier__min_samples_leaf=4, classifier__min_samples_split=10, classifier__n_estimators=200; total time= 5.2min\n",
      "[CV] END classifier__bootstrap=False, classifier__max_depth=20, classifier__max_features=sqrt, classifier__min_samples_leaf=4, classifier__min_samples_split=10, classifier__n_estimators=50; total time=  28.1s\n",
      "[CV] END classifier__bootstrap=False, classifier__max_depth=20, classifier__max_features=sqrt, classifier__min_samples_leaf=4, classifier__min_samples_split=10, classifier__n_estimators=50; total time=  27.7s\n",
      "[CV] END classifier__bootstrap=False, classifier__max_depth=20, classifier__max_features=sqrt, classifier__min_samples_leaf=4, classifier__min_samples_split=10, classifier__n_estimators=50; total time=  28.4s\n",
      "[CV] END classifier__bootstrap=True, classifier__max_depth=10, classifier__max_features=None, classifier__min_samples_leaf=4, classifier__min_samples_split=2, classifier__n_estimators=50; total time= 1.1min\n",
      "[CV] END classifier__bootstrap=True, classifier__max_depth=10, classifier__max_features=None, classifier__min_samples_leaf=4, classifier__min_samples_split=2, classifier__n_estimators=50; total time= 1.1min\n",
      "[CV] END classifier__bootstrap=False, classifier__max_depth=None, classifier__max_features=sqrt, classifier__min_samples_leaf=4, classifier__min_samples_split=10, classifier__n_estimators=200; total time= 4.2min\n",
      "[CV] END classifier__bootstrap=True, classifier__max_depth=10, classifier__max_features=None, classifier__min_samples_leaf=4, classifier__min_samples_split=2, classifier__n_estimators=50; total time= 1.1min\n",
      "[CV] END classifier__bootstrap=False, classifier__max_depth=20, classifier__max_features=log2, classifier__min_samples_leaf=2, classifier__min_samples_split=10, classifier__n_estimators=100; total time=  39.5s\n",
      "[CV] END classifier__bootstrap=False, classifier__max_depth=20, classifier__max_features=log2, classifier__min_samples_leaf=2, classifier__min_samples_split=10, classifier__n_estimators=100; total time=  39.6s\n",
      "[CV] END classifier__bootstrap=False, classifier__max_depth=20, classifier__max_features=log2, classifier__min_samples_leaf=2, classifier__min_samples_split=10, classifier__n_estimators=100; total time=  38.8s\n",
      "[CV] END classifier__bootstrap=True, classifier__max_depth=30, classifier__max_features=sqrt, classifier__min_samples_leaf=4, classifier__min_samples_split=2, classifier__n_estimators=100; total time= 1.1min\n",
      "[CV] END classifier__bootstrap=True, classifier__max_depth=30, classifier__max_features=sqrt, classifier__min_samples_leaf=4, classifier__min_samples_split=2, classifier__n_estimators=100; total time= 1.1min\n",
      "[CV] END classifier__bootstrap=True, classifier__max_depth=20, classifier__max_features=log2, classifier__min_samples_leaf=4, classifier__min_samples_split=5, classifier__n_estimators=200; total time=  50.0s\n",
      "[CV] END classifier__bootstrap=True, classifier__max_depth=30, classifier__max_features=sqrt, classifier__min_samples_leaf=4, classifier__min_samples_split=2, classifier__n_estimators=100; total time= 1.1min\n",
      "[CV] END classifier__bootstrap=True, classifier__max_depth=30, classifier__max_features=None, classifier__min_samples_leaf=1, classifier__min_samples_split=5, classifier__n_estimators=100; total time=13.0min\n",
      "[CV] END classifier__bootstrap=True, classifier__max_depth=30, classifier__max_features=None, classifier__min_samples_leaf=1, classifier__min_samples_split=5, classifier__n_estimators=100; total time=13.1min\n",
      "[CV] END classifier__bootstrap=True, classifier__max_depth=30, classifier__max_features=None, classifier__min_samples_leaf=1, classifier__min_samples_split=5, classifier__n_estimators=100; total time=13.1min\n",
      "[CV] END classifier__bootstrap=True, classifier__max_depth=20, classifier__max_features=log2, classifier__min_samples_leaf=4, classifier__min_samples_split=5, classifier__n_estimators=200; total time=  52.4s\n",
      "[CV] END classifier__bootstrap=True, classifier__max_depth=20, classifier__max_features=log2, classifier__min_samples_leaf=4, classifier__min_samples_split=5, classifier__n_estimators=200; total time=  52.2s\n",
      "[CV] END classifier__bootstrap=True, classifier__max_depth=None, classifier__max_features=log2, classifier__min_samples_leaf=1, classifier__min_samples_split=10, classifier__n_estimators=100; total time= 2.5min\n",
      "[CV] END classifier__bootstrap=True, classifier__max_depth=None, classifier__max_features=log2, classifier__min_samples_leaf=1, classifier__min_samples_split=10, classifier__n_estimators=100; total time= 2.5min\n",
      "[CV] END classifier__bootstrap=True, classifier__max_depth=None, classifier__max_features=log2, classifier__min_samples_leaf=1, classifier__min_samples_split=10, classifier__n_estimators=100; total time= 2.6min\n",
      "[CV] END classifier__bootstrap=True, classifier__max_depth=30, classifier__max_features=None, classifier__min_samples_leaf=2, classifier__min_samples_split=10, classifier__n_estimators=50; total time= 5.8min\n",
      "[CV] END classifier__bootstrap=True, classifier__max_depth=30, classifier__max_features=None, classifier__min_samples_leaf=2, classifier__min_samples_split=10, classifier__n_estimators=50; total time= 5.7min\n",
      "[CV] END classifier__bootstrap=True, classifier__max_depth=30, classifier__max_features=None, classifier__min_samples_leaf=2, classifier__min_samples_split=10, classifier__n_estimators=50; total time= 5.8min\n",
      "[CV] END classifier__bootstrap=False, classifier__max_depth=None, classifier__max_features=log2, classifier__min_samples_leaf=2, classifier__min_samples_split=2, classifier__n_estimators=200; total time= 4.9min\n",
      "[CV] END classifier__bootstrap=True, classifier__max_depth=None, classifier__max_features=log2, classifier__min_samples_leaf=2, classifier__min_samples_split=2, classifier__n_estimators=200; total time= 3.2min\n",
      "[CV] END classifier__bootstrap=True, classifier__max_depth=None, classifier__max_features=log2, classifier__min_samples_leaf=2, classifier__min_samples_split=2, classifier__n_estimators=200; total time= 3.3min\n",
      "[CV] END classifier__bootstrap=False, classifier__max_depth=None, classifier__max_features=log2, classifier__min_samples_leaf=2, classifier__min_samples_split=2, classifier__n_estimators=200; total time= 5.0min\n",
      "[CV] END classifier__bootstrap=True, classifier__max_depth=None, classifier__max_features=sqrt, classifier__min_samples_leaf=1, classifier__min_samples_split=10, classifier__n_estimators=50; total time= 1.5min\n",
      "[CV] END classifier__bootstrap=True, classifier__max_depth=None, classifier__max_features=sqrt, classifier__min_samples_leaf=1, classifier__min_samples_split=10, classifier__n_estimators=50; total time= 1.5min\n",
      "[CV] END classifier__bootstrap=False, classifier__max_depth=None, classifier__max_features=log2, classifier__min_samples_leaf=2, classifier__min_samples_split=2, classifier__n_estimators=200; total time= 5.0min\n",
      "[CV] END classifier__bootstrap=True, classifier__max_depth=20, classifier__max_features=sqrt, classifier__min_samples_leaf=1, classifier__min_samples_split=2, classifier__n_estimators=50; total time=  36.8s\n",
      "[CV] END classifier__bootstrap=True, classifier__max_depth=20, classifier__max_features=sqrt, classifier__min_samples_leaf=1, classifier__min_samples_split=2, classifier__n_estimators=50; total time=  34.3s\n",
      "[CV] END classifier__bootstrap=True, classifier__max_depth=20, classifier__max_features=sqrt, classifier__min_samples_leaf=1, classifier__min_samples_split=2, classifier__n_estimators=50; total time=  33.9s\n",
      "[CV] END classifier__bootstrap=True, classifier__max_depth=None, classifier__max_features=log2, classifier__min_samples_leaf=2, classifier__min_samples_split=2, classifier__n_estimators=200; total time= 3.4min\n",
      "[CV] END classifier__bootstrap=True, classifier__max_depth=None, classifier__max_features=sqrt, classifier__min_samples_leaf=1, classifier__min_samples_split=10, classifier__n_estimators=50; total time= 1.5min\n",
      "[CV] END classifier__bootstrap=True, classifier__max_depth=None, classifier__max_features=sqrt, classifier__min_samples_leaf=1, classifier__min_samples_split=5, classifier__n_estimators=100; total time= 3.6min\n",
      "[CV] END classifier__bootstrap=True, classifier__max_depth=None, classifier__max_features=sqrt, classifier__min_samples_leaf=1, classifier__min_samples_split=5, classifier__n_estimators=100; total time= 3.6min\n",
      "[CV] END classifier__bootstrap=False, classifier__max_depth=10, classifier__max_features=log2, classifier__min_samples_leaf=2, classifier__min_samples_split=2, classifier__n_estimators=200; total time=  29.6s\n",
      "[CV] END classifier__bootstrap=False, classifier__max_depth=10, classifier__max_features=log2, classifier__min_samples_leaf=2, classifier__min_samples_split=2, classifier__n_estimators=200; total time=  30.3s\n",
      "[CV] END classifier__bootstrap=False, classifier__max_depth=10, classifier__max_features=log2, classifier__min_samples_leaf=2, classifier__min_samples_split=2, classifier__n_estimators=200; total time=  28.9s\n",
      "[CV] END classifier__bootstrap=True, classifier__max_depth=None, classifier__max_features=sqrt, classifier__min_samples_leaf=1, classifier__min_samples_split=5, classifier__n_estimators=100; total time= 3.7min\n",
      "[CV] END classifier__bootstrap=False, classifier__max_depth=20, classifier__max_features=None, classifier__min_samples_leaf=1, classifier__min_samples_split=5, classifier__n_estimators=100; total time= 9.8min\n",
      "[CV] END classifier__bootstrap=False, classifier__max_depth=20, classifier__max_features=None, classifier__min_samples_leaf=1, classifier__min_samples_split=5, classifier__n_estimators=100; total time= 9.8min\n",
      "[CV] END classifier__bootstrap=False, classifier__max_depth=20, classifier__max_features=None, classifier__min_samples_leaf=1, classifier__min_samples_split=5, classifier__n_estimators=100; total time=10.0min\n",
      "[CV] END classifier__bootstrap=True, classifier__max_depth=10, classifier__max_features=None, classifier__min_samples_leaf=2, classifier__min_samples_split=10, classifier__n_estimators=50; total time= 1.3min\n",
      "[CV] END classifier__bootstrap=True, classifier__max_depth=10, classifier__max_features=None, classifier__min_samples_leaf=2, classifier__min_samples_split=10, classifier__n_estimators=50; total time= 1.3min\n",
      "[CV] END classifier__bootstrap=False, classifier__max_depth=None, classifier__max_features=log2, classifier__min_samples_leaf=1, classifier__min_samples_split=5, classifier__n_estimators=100; total time= 5.6min\n",
      "[CV] END classifier__bootstrap=True, classifier__max_depth=10, classifier__max_features=sqrt, classifier__min_samples_leaf=2, classifier__min_samples_split=2, classifier__n_estimators=100; total time=  22.7s\n",
      "[CV] END classifier__bootstrap=True, classifier__max_depth=10, classifier__max_features=sqrt, classifier__min_samples_leaf=2, classifier__min_samples_split=2, classifier__n_estimators=100; total time=  22.7s\n",
      "[CV] END classifier__bootstrap=True, classifier__max_depth=10, classifier__max_features=sqrt, classifier__min_samples_leaf=2, classifier__min_samples_split=2, classifier__n_estimators=100; total time=  22.3s\n",
      "[CV] END classifier__bootstrap=False, classifier__max_depth=10, classifier__max_features=sqrt, classifier__min_samples_leaf=2, classifier__min_samples_split=10, classifier__n_estimators=100; total time=  25.5s\n",
      "[CV] END classifier__bootstrap=True, classifier__max_depth=10, classifier__max_features=None, classifier__min_samples_leaf=2, classifier__min_samples_split=10, classifier__n_estimators=50; total time= 1.3min\n",
      "[CV] END classifier__bootstrap=False, classifier__max_depth=10, classifier__max_features=sqrt, classifier__min_samples_leaf=2, classifier__min_samples_split=10, classifier__n_estimators=100; total time=  26.0s\n",
      "[CV] END classifier__bootstrap=False, classifier__max_depth=10, classifier__max_features=sqrt, classifier__min_samples_leaf=2, classifier__min_samples_split=10, classifier__n_estimators=100; total time=  26.2s\n",
      "[CV] END classifier__bootstrap=False, classifier__max_depth=None, classifier__max_features=log2, classifier__min_samples_leaf=1, classifier__min_samples_split=5, classifier__n_estimators=100; total time= 5.7min\n",
      "[CV] END classifier__bootstrap=True, classifier__max_depth=10, classifier__max_features=None, classifier__min_samples_leaf=2, classifier__min_samples_split=2, classifier__n_estimators=50; total time= 1.3min\n",
      "[CV] END classifier__bootstrap=True, classifier__max_depth=10, classifier__max_features=None, classifier__min_samples_leaf=2, classifier__min_samples_split=2, classifier__n_estimators=50; total time= 1.3min\n",
      "[CV] END classifier__bootstrap=False, classifier__max_depth=10, classifier__max_features=sqrt, classifier__min_samples_leaf=2, classifier__min_samples_split=10, classifier__n_estimators=200; total time=  48.4s\n",
      "[CV] END classifier__bootstrap=True, classifier__max_depth=10, classifier__max_features=None, classifier__min_samples_leaf=2, classifier__min_samples_split=2, classifier__n_estimators=50; total time= 1.3min\n",
      "[CV] END classifier__bootstrap=False, classifier__max_depth=10, classifier__max_features=sqrt, classifier__min_samples_leaf=2, classifier__min_samples_split=10, classifier__n_estimators=200; total time=  49.4s\n",
      "[CV] END classifier__bootstrap=False, classifier__max_depth=10, classifier__max_features=sqrt, classifier__min_samples_leaf=2, classifier__min_samples_split=10, classifier__n_estimators=200; total time=  50.3s\n",
      "[CV] END classifier__bootstrap=False, classifier__max_depth=None, classifier__max_features=log2, classifier__min_samples_leaf=1, classifier__min_samples_split=5, classifier__n_estimators=100; total time= 5.6min\n"
     ]
    },
    {
     "name": "stderr",
     "output_type": "stream",
     "text": [
      "/Users/goudarzimandanagmail.com/anaconda3/lib/python3.11/site-packages/joblib/externals/loky/process_executor.py:700: UserWarning: A worker stopped while some jobs were given to the executor. This can be caused by a too short worker timeout or by a memory leak.\n",
      "  warnings.warn(\n"
     ]
    },
    {
     "name": "stdout",
     "output_type": "stream",
     "text": [
      "[CV] END classifier__bootstrap=True, classifier__max_depth=10, classifier__max_features=None, classifier__min_samples_leaf=1, classifier__min_samples_split=2, classifier__n_estimators=50; total time= 1.4min\n",
      "[CV] END classifier__bootstrap=True, classifier__max_depth=10, classifier__max_features=None, classifier__min_samples_leaf=1, classifier__min_samples_split=2, classifier__n_estimators=50; total time= 1.4min\n",
      "[CV] END classifier__bootstrap=False, classifier__max_depth=30, classifier__max_features=log2, classifier__min_samples_leaf=4, classifier__min_samples_split=2, classifier__n_estimators=100; total time= 1.1min\n",
      "[CV] END classifier__bootstrap=False, classifier__max_depth=10, classifier__max_features=sqrt, classifier__min_samples_leaf=4, classifier__min_samples_split=5, classifier__n_estimators=100; total time=  27.0s\n",
      "[CV] END classifier__bootstrap=True, classifier__max_depth=10, classifier__max_features=None, classifier__min_samples_leaf=1, classifier__min_samples_split=2, classifier__n_estimators=50; total time= 1.4min\n",
      "[CV] END classifier__bootstrap=False, classifier__max_depth=10, classifier__max_features=sqrt, classifier__min_samples_leaf=4, classifier__min_samples_split=5, classifier__n_estimators=100; total time=  27.4s\n",
      "[CV] END classifier__bootstrap=False, classifier__max_depth=10, classifier__max_features=sqrt, classifier__min_samples_leaf=4, classifier__min_samples_split=5, classifier__n_estimators=100; total time=  26.8s\n",
      "[CV] END classifier__bootstrap=False, classifier__max_depth=30, classifier__max_features=log2, classifier__min_samples_leaf=4, classifier__min_samples_split=2, classifier__n_estimators=100; total time= 1.1min\n",
      "[CV] END classifier__bootstrap=False, classifier__max_depth=30, classifier__max_features=log2, classifier__min_samples_leaf=4, classifier__min_samples_split=2, classifier__n_estimators=100; total time= 1.1min\n",
      "[CV] END classifier__bootstrap=True, classifier__max_depth=30, classifier__max_features=sqrt, classifier__min_samples_leaf=2, classifier__min_samples_split=10, classifier__n_estimators=50; total time=  48.9s\n",
      "[CV] END classifier__bootstrap=True, classifier__max_depth=30, classifier__max_features=sqrt, classifier__min_samples_leaf=2, classifier__min_samples_split=10, classifier__n_estimators=50; total time=  48.9s\n",
      "[CV] END classifier__bootstrap=True, classifier__max_depth=30, classifier__max_features=sqrt, classifier__min_samples_leaf=2, classifier__min_samples_split=10, classifier__n_estimators=50; total time=  48.5s\n",
      "[CV] END classifier__bootstrap=False, classifier__max_depth=30, classifier__max_features=sqrt, classifier__min_samples_leaf=4, classifier__min_samples_split=5, classifier__n_estimators=50; total time=  56.4s\n",
      "[CV] END classifier__bootstrap=False, classifier__max_depth=30, classifier__max_features=sqrt, classifier__min_samples_leaf=4, classifier__min_samples_split=5, classifier__n_estimators=50; total time=  55.6s\n",
      "[CV] END classifier__bootstrap=True, classifier__max_depth=10, classifier__max_features=log2, classifier__min_samples_leaf=1, classifier__min_samples_split=5, classifier__n_estimators=100; total time=  17.7s\n",
      "[CV] END classifier__bootstrap=True, classifier__max_depth=10, classifier__max_features=log2, classifier__min_samples_leaf=1, classifier__min_samples_split=5, classifier__n_estimators=100; total time=  17.4s\n",
      "[CV] END classifier__bootstrap=False, classifier__max_depth=30, classifier__max_features=sqrt, classifier__min_samples_leaf=4, classifier__min_samples_split=5, classifier__n_estimators=50; total time=  58.1s\n",
      "[CV] END classifier__bootstrap=True, classifier__max_depth=10, classifier__max_features=log2, classifier__min_samples_leaf=1, classifier__min_samples_split=5, classifier__n_estimators=100; total time=  18.5s\n",
      "[CV] END classifier__bootstrap=False, classifier__max_depth=None, classifier__max_features=None, classifier__min_samples_leaf=2, classifier__min_samples_split=5, classifier__n_estimators=200; total time=51.2min\n",
      "[CV] END classifier__bootstrap=False, classifier__max_depth=None, classifier__max_features=None, classifier__min_samples_leaf=2, classifier__min_samples_split=5, classifier__n_estimators=200; total time=51.8min\n",
      "[CV] END classifier__bootstrap=False, classifier__max_depth=None, classifier__max_features=None, classifier__min_samples_leaf=2, classifier__min_samples_split=5, classifier__n_estimators=200; total time=51.8min\n",
      "[CV] END classifier__bootstrap=True, classifier__max_depth=None, classifier__max_features=None, classifier__min_samples_leaf=1, classifier__min_samples_split=2, classifier__n_estimators=100; total time=16.3min\n",
      "[CV] END classifier__bootstrap=True, classifier__max_depth=None, classifier__max_features=None, classifier__min_samples_leaf=1, classifier__min_samples_split=2, classifier__n_estimators=100; total time=16.3min\n",
      "[CV] END classifier__bootstrap=True, classifier__max_depth=None, classifier__max_features=None, classifier__min_samples_leaf=1, classifier__min_samples_split=2, classifier__n_estimators=100; total time=16.0min\n"
     ]
    }
   ],
   "source": [
    "param_grid = {\n",
    "    'classifier__n_estimators': [50, 100, 200],\n",
    "    'classifier__max_depth': [10, 20, 30, None],\n",
    "    'classifier__min_samples_split': [2, 5, 10],\n",
    "    'classifier__min_samples_leaf': [1, 2, 4],\n",
    "    'classifier__max_features': ['sqrt', 'log2', None],\n",
    "    'classifier__bootstrap': [True, False]\n",
    "}\n",
    "random_search = RandomizedSearchCV(\n",
    "    estimator=rf_balanced,\n",
    "    param_distributions=param_grid,\n",
    "    n_iter=30,  # Try 30 combinations\n",
    "    scoring='f1_weighted',\n",
    "    cv=3,\n",
    "    verbose=2,\n",
    "    random_state=42,\n",
    "    n_jobs=-1\n",
    ")\n",
    "\n",
    "random_search.fit(X_train, y_train)\n",
    "best_rf_model = random_search.best_estimator_\n"
   ]
  },
  {
   "cell_type": "code",
   "execution_count": 151,
   "id": "efef5b30",
   "metadata": {},
   "outputs": [
    {
     "name": "stdout",
     "output_type": "stream",
     "text": [
      "Validation Set Performance (RandomizedSearchCV):\n",
      "              precision    recall  f1-score   support\n",
      "\n",
      "           0       0.86      0.95      0.90      8819\n",
      "           1       0.70      0.54      0.61      1702\n",
      "           2       0.52      0.22      0.31       965\n",
      "\n",
      "    accuracy                           0.83     11486\n",
      "   macro avg       0.69      0.57      0.61     11486\n",
      "weighted avg       0.80      0.83      0.81     11486\n",
      "\n",
      "Confusion Matrix:\n",
      "[[8344  327  148]\n",
      " [ 727  923   52]\n",
      " [ 683   65  217]]\n"
     ]
    }
   ],
   "source": [
    "y_val_pred = best_rf_model.predict(X_val)\n",
    "\n",
    "print(\"Validation Set Performance (RandomizedSearchCV):\")\n",
    "print(classification_report(y_val, y_val_pred))\n",
    "print(\"Confusion Matrix:\")\n",
    "print(confusion_matrix(y_val, y_val_pred))\n"
   ]
  },
  {
   "cell_type": "markdown",
   "id": "d9324c16",
   "metadata": {},
   "source": [
    "### Validation Results\n",
    "\n",
    "- **Accuracy**: 83%\n",
    "- **Macro F1-score**: 0.61\n",
    "- **Weighted F1-score**: 0.81\n",
    "\n",
    "#### Class-wise Performance:\n",
    "- **Class 0 (High reviews)**: Excellent — F1 = 0.90, Recall = 95%\n",
    "- **Class 1 (Low reviews)**: Solid — F1 = 0.61, Recall = 54%\n",
    "- **Class 2 (Medium reviews)**: Best so far — F1 = 0.31, Recall = 22%\n",
    "\n",
    "### Insights\n",
    "- This tuned model performs better than previous versions, especially on Low and Medium classes.\n",
    "- The gain in **recall** and **F1 for Medium** is a key success from SMOTE + tuning.\n",
    "- It maintains very high accuracy on the dominant High class.\n",
    "\n",
    "This model is a strong candidate for final deployment or business use."
   ]
  },
  {
   "cell_type": "markdown",
   "id": "c276269a",
   "metadata": {},
   "source": [
    "##  Top Feature Importances (Random Forest)\n",
    "\n",
    "The chart below shows the five most important features identified by the final Random Forest model."
   ]
  },
  {
   "cell_type": "code",
   "execution_count": 152,
   "id": "0c900a15",
   "metadata": {},
   "outputs": [
    {
     "data": {
      "image/png": "[encoded data removed]",
      "text/plain": [
       "<Figure size 1000x800 with 1 Axes>"
      ]
     },
     "metadata": {},
     "output_type": "display_data"
    }
   ],
   "source": [
    "importances = best_rf_model.named_steps['classifier'].feature_importances_\n",
    "\n",
    "feature_names = best_rf_model.named_steps['preprocessor'].get_feature_names_out()\n",
    "feat_importances = pd.Series(importances, index=feature_names)\n",
    "\n",
    "feat_importances.nlargest(5).plot(kind='barh', figsize=(10, 8))\n",
    "plt.title(\"Top 20 Feature Importances - Random Forest\")\n",
    "plt.tight_layout()\n",
    "plt.show()"
   ]
  },
  {
   "cell_type": "markdown",
   "id": "c3a43a87",
   "metadata": {},
   "source": [
    "- **Delivery time (`Delivery_Time_Days`)** is by far the most influential factor in predicting review scores.\n",
    "- Other notable contributors include **Age**, **Freight Value**, and **Package Volume**."
   ]
  },
  {
   "cell_type": "markdown",
   "id": "c1a9a927",
   "metadata": {},
   "source": [
    "## XGBoost with SMOTE\n",
    "\n",
    "We applied SMOTE to balance class distribution and trained an XGBoost classifier with tuned parameters.\n"
   ]
  },
  {
   "cell_type": "code",
   "execution_count": 156,
   "id": "ddbf95b6",
   "metadata": {},
   "outputs": [
    {
     "name": "stderr",
     "output_type": "stream",
     "text": [
      "/Users/goudarzimandanagmail.com/anaconda3/lib/python3.11/site-packages/xgboost/training.py:183: UserWarning: [18:17:47] WARNING: /Users/runner/work/xgboost/xgboost/src/learner.cc:738: \n",
      "Parameters: { \"use_label_encoder\" } are not used.\n",
      "\n",
      "  bst.update(dtrain, iteration=i, fobj=obj)\n"
     ]
    },
    {
     "name": "stdout",
     "output_type": "stream",
     "text": [
      "XGBoost - Validation Set Performance:\n",
      "              precision    recall  f1-score   support\n",
      "\n",
      "           0       0.82      0.91      0.86      8819\n",
      "           1       0.54      0.36      0.43      1702\n",
      "           2       0.16      0.09      0.12       965\n",
      "\n",
      "    accuracy                           0.76     11486\n",
      "   macro avg       0.51      0.45      0.47     11486\n",
      "weighted avg       0.72      0.76      0.73     11486\n",
      "\n",
      "Confusion Matrix:\n",
      "[[8013  423  383]\n",
      " [1025  613   64]\n",
      " [ 784   93   88]]\n"
     ]
    }
   ],
   "source": [
    "xgb_pipeline = ImbPipeline(steps=[\n",
    "    ('preprocessor', preprocessor),\n",
    "    ('smote', smote),\n",
    "    ('classifier', XGBClassifier(\n",
    "        n_estimators=200,\n",
    "        learning_rate=0.1,\n",
    "        max_depth=6,\n",
    "        random_state=42,\n",
    "        use_label_encoder=False,\n",
    "        eval_metric='mlogloss'\n",
    "    ))\n",
    "])\n",
    "\n",
    "xgb_pipeline.fit(X_train, y_train)\n",
    "\n",
    "y_val_pred = xgb_pipeline.predict(X_val)\n",
    "\n",
    "print(\"XGBoost - Validation Set Performance:\")\n",
    "print(classification_report(y_val, y_val_pred, zero_division=0))\n",
    "print(\"Confusion Matrix:\")\n",
    "print(confusion_matrix(y_val, y_val_pred))"
   ]
  },
  {
   "cell_type": "markdown",
   "id": "01589ce0",
   "metadata": {},
   "source": [
    "### Validation Results\n",
    "- **Accuracy**: 76%\n",
    "- **Macro F1-score**: 0.47\n",
    "- **Weighted F1-score**: 0.73\n",
    "\n",
    "- Class 0 (High): F1 = 0.86 → strong\n",
    "- Class 1 (Low): F1 = 0.43 → moderate\n",
    "- Class 2 (Medium): F1 = 0.12 → weak\n",
    "\n",
    "Despite balancing with SMOTE, XGBoost underperforms on the Medium class compared to Random Forest."
   ]
  },
  {
   "cell_type": "markdown",
   "id": "212dc209",
   "metadata": {},
   "source": [
    "## Tuned XGBoost with SMOTE (RandomizedSearchCV)\n",
    "\n",
    "We optimized XGBoost using `RandomizedSearchCV` over a wide hyperparameter grid with 20 combinations and 3-fold stratified cross-validation.\n"
   ]
  },
  {
   "cell_type": "code",
   "execution_count": 159,
   "id": "7d2db9b8",
   "metadata": {},
   "outputs": [],
   "source": [
    "param_grid_xgboost = {\n",
    "    'classifier__n_estimators': [100, 200],\n",
    "    'classifier__max_depth': [4, 6, 8],\n",
    "    'classifier__learning_rate': [0.01, 0.05, 0.1],\n",
    "    'classifier__subsample': [0.8, 1],\n",
    "    'classifier__colsample_bytree': [0.8, 1],\n",
    "    'classifier__scale_pos_weight': [1, 2, 5]\n",
    "}"
   ]
  },
  {
   "cell_type": "code",
   "execution_count": 160,
   "id": "aa02676a",
   "metadata": {},
   "outputs": [
    {
     "name": "stdout",
     "output_type": "stream",
     "text": [
      "Fitting 3 folds for each of 20 candidates, totalling 60 fits\n"
     ]
    },
    {
     "name": "stderr",
     "output_type": "stream",
     "text": [
      "/Users/goudarzimandanagmail.com/anaconda3/lib/python3.11/site-packages/xgboost/training.py:183: UserWarning: [18:23:16] WARNING: /Users/runner/work/xgboost/xgboost/src/learner.cc:738: \n",
      "Parameters: { \"scale_pos_weight\", \"use_label_encoder\" } are not used.\n",
      "\n",
      "  bst.update(dtrain, iteration=i, fobj=obj)\n",
      "/Users/goudarzimandanagmail.com/anaconda3/lib/python3.11/site-packages/xgboost/training.py:183: UserWarning: [18:23:16] WARNING: /Users/runner/work/xgboost/xgboost/src/learner.cc:738: \n",
      "Parameters: { \"scale_pos_weight\", \"use_label_encoder\" } are not used.\n",
      "\n",
      "  bst.update(dtrain, iteration=i, fobj=obj)\n",
      "/Users/goudarzimandanagmail.com/anaconda3/lib/python3.11/site-packages/xgboost/training.py:183: UserWarning: [18:23:16] WARNING: /Users/runner/work/xgboost/xgboost/src/learner.cc:738: \n",
      "Parameters: { \"scale_pos_weight\", \"use_label_encoder\" } are not used.\n",
      "\n",
      "  bst.update(dtrain, iteration=i, fobj=obj)\n",
      "/Users/goudarzimandanagmail.com/anaconda3/lib/python3.11/site-packages/xgboost/training.py:183: UserWarning: [18:23:16] WARNING: /Users/runner/work/xgboost/xgboost/src/learner.cc:738: \n",
      "Parameters: { \"scale_pos_weight\", \"use_label_encoder\" } are not used.\n",
      "\n",
      "  bst.update(dtrain, iteration=i, fobj=obj)\n",
      "/Users/goudarzimandanagmail.com/anaconda3/lib/python3.11/site-packages/xgboost/training.py:183: UserWarning: [18:23:23] WARNING: /Users/runner/work/xgboost/xgboost/src/learner.cc:738: \n",
      "Parameters: { \"scale_pos_weight\", \"use_label_encoder\" } are not used.\n",
      "\n",
      "  bst.update(dtrain, iteration=i, fobj=obj)\n",
      "/Users/goudarzimandanagmail.com/anaconda3/lib/python3.11/site-packages/xgboost/training.py:183: UserWarning: [18:23:23] WARNING: /Users/runner/work/xgboost/xgboost/src/learner.cc:738: \n",
      "Parameters: { \"scale_pos_weight\", \"use_label_encoder\" } are not used.\n",
      "\n",
      "  bst.update(dtrain, iteration=i, fobj=obj)\n",
      "/Users/goudarzimandanagmail.com/anaconda3/lib/python3.11/site-packages/xgboost/training.py:183: UserWarning: [18:23:23] WARNING: /Users/runner/work/xgboost/xgboost/src/learner.cc:738: \n",
      "Parameters: { \"scale_pos_weight\", \"use_label_encoder\" } are not used.\n",
      "\n",
      "  bst.update(dtrain, iteration=i, fobj=obj)\n",
      "/Users/goudarzimandanagmail.com/anaconda3/lib/python3.11/site-packages/xgboost/training.py:183: UserWarning: [18:23:24] WARNING: /Users/runner/work/xgboost/xgboost/src/learner.cc:738: \n",
      "Parameters: { \"scale_pos_weight\", \"use_label_encoder\" } are not used.\n",
      "\n",
      "  bst.update(dtrain, iteration=i, fobj=obj)\n"
     ]
    },
    {
     "name": "stdout",
     "output_type": "stream",
     "text": [
      "[CV] END classifier__colsample_bytree=1, classifier__learning_rate=0.1, classifier__max_depth=6, classifier__n_estimators=200, classifier__scale_pos_weight=2, classifier__subsample=1; total time= 1.3min\n",
      "[CV] END classifier__colsample_bytree=1, classifier__learning_rate=0.1, classifier__max_depth=6, classifier__n_estimators=200, classifier__scale_pos_weight=2, classifier__subsample=1; total time= 1.3min\n"
     ]
    },
    {
     "name": "stderr",
     "output_type": "stream",
     "text": [
      "/Users/goudarzimandanagmail.com/anaconda3/lib/python3.11/site-packages/xgboost/training.py:183: UserWarning: [18:23:39] WARNING: /Users/runner/work/xgboost/xgboost/src/learner.cc:738: \n",
      "Parameters: { \"scale_pos_weight\", \"use_label_encoder\" } are not used.\n",
      "\n",
      "  bst.update(dtrain, iteration=i, fobj=obj)\n",
      "/Users/goudarzimandanagmail.com/anaconda3/lib/python3.11/site-packages/xgboost/training.py:183: UserWarning: [18:23:39] WARNING: /Users/runner/work/xgboost/xgboost/src/learner.cc:738: \n",
      "Parameters: { \"scale_pos_weight\", \"use_label_encoder\" } are not used.\n",
      "\n",
      "  bst.update(dtrain, iteration=i, fobj=obj)\n"
     ]
    },
    {
     "name": "stdout",
     "output_type": "stream",
     "text": [
      "[CV] END classifier__colsample_bytree=1, classifier__learning_rate=0.1, classifier__max_depth=6, classifier__n_estimators=200, classifier__scale_pos_weight=2, classifier__subsample=1; total time= 1.4min\n",
      "[CV] END classifier__colsample_bytree=1, classifier__learning_rate=0.1, classifier__max_depth=8, classifier__n_estimators=200, classifier__scale_pos_weight=2, classifier__subsample=1; total time= 1.5min\n",
      "[CV] END classifier__colsample_bytree=1, classifier__learning_rate=0.1, classifier__max_depth=8, classifier__n_estimators=200, classifier__scale_pos_weight=2, classifier__subsample=1; total time= 1.5min\n"
     ]
    },
    {
     "name": "stderr",
     "output_type": "stream",
     "text": [
      "/Users/goudarzimandanagmail.com/anaconda3/lib/python3.11/site-packages/xgboost/training.py:183: UserWarning: [18:23:44] WARNING: /Users/runner/work/xgboost/xgboost/src/learner.cc:738: \n",
      "Parameters: { \"scale_pos_weight\", \"use_label_encoder\" } are not used.\n",
      "\n",
      "  bst.update(dtrain, iteration=i, fobj=obj)\n",
      "/Users/goudarzimandanagmail.com/anaconda3/lib/python3.11/site-packages/xgboost/training.py:183: UserWarning: [18:23:48] WARNING: /Users/runner/work/xgboost/xgboost/src/learner.cc:738: \n",
      "Parameters: { \"scale_pos_weight\", \"use_label_encoder\" } are not used.\n",
      "\n",
      "  bst.update(dtrain, iteration=i, fobj=obj)\n",
      "/Users/goudarzimandanagmail.com/anaconda3/lib/python3.11/site-packages/xgboost/training.py:183: UserWarning: [18:23:48] WARNING: /Users/runner/work/xgboost/xgboost/src/learner.cc:738: \n",
      "Parameters: { \"scale_pos_weight\", \"use_label_encoder\" } are not used.\n",
      "\n",
      "  bst.update(dtrain, iteration=i, fobj=obj)\n"
     ]
    },
    {
     "name": "stdout",
     "output_type": "stream",
     "text": [
      "[CV] END classifier__colsample_bytree=1, classifier__learning_rate=0.1, classifier__max_depth=8, classifier__n_estimators=200, classifier__scale_pos_weight=2, classifier__subsample=1; total time= 1.6min\n"
     ]
    },
    {
     "name": "stderr",
     "output_type": "stream",
     "text": [
      "/Users/goudarzimandanagmail.com/anaconda3/lib/python3.11/site-packages/xgboost/training.py:183: UserWarning: [18:23:54] WARNING: /Users/runner/work/xgboost/xgboost/src/learner.cc:738: \n",
      "Parameters: { \"scale_pos_weight\", \"use_label_encoder\" } are not used.\n",
      "\n",
      "  bst.update(dtrain, iteration=i, fobj=obj)\n"
     ]
    },
    {
     "name": "stdout",
     "output_type": "stream",
     "text": [
      "[CV] END classifier__colsample_bytree=0.8, classifier__learning_rate=0.01, classifier__max_depth=6, classifier__n_estimators=100, classifier__scale_pos_weight=2, classifier__subsample=1; total time=  15.1s\n",
      "[CV] END classifier__colsample_bytree=1, classifier__learning_rate=0.01, classifier__max_depth=8, classifier__n_estimators=200, classifier__scale_pos_weight=1, classifier__subsample=0.8; total time= 1.8min\n"
     ]
    },
    {
     "name": "stderr",
     "output_type": "stream",
     "text": [
      "/Users/goudarzimandanagmail.com/anaconda3/lib/python3.11/site-packages/xgboost/training.py:183: UserWarning: [18:24:02] WARNING: /Users/runner/work/xgboost/xgboost/src/learner.cc:738: \n",
      "Parameters: { \"scale_pos_weight\", \"use_label_encoder\" } are not used.\n",
      "\n",
      "  bst.update(dtrain, iteration=i, fobj=obj)\n"
     ]
    },
    {
     "name": "stdout",
     "output_type": "stream",
     "text": [
      "[CV] END classifier__colsample_bytree=0.8, classifier__learning_rate=0.01, classifier__max_depth=6, classifier__n_estimators=100, classifier__scale_pos_weight=2, classifier__subsample=1; total time=  13.7s\n",
      "[CV] END classifier__colsample_bytree=1, classifier__learning_rate=0.01, classifier__max_depth=8, classifier__n_estimators=200, classifier__scale_pos_weight=1, classifier__subsample=0.8; total time= 1.8min\n"
     ]
    },
    {
     "name": "stderr",
     "output_type": "stream",
     "text": [
      "/Users/goudarzimandanagmail.com/anaconda3/lib/python3.11/site-packages/xgboost/training.py:183: UserWarning: [18:24:08] WARNING: /Users/runner/work/xgboost/xgboost/src/learner.cc:738: \n",
      "Parameters: { \"scale_pos_weight\", \"use_label_encoder\" } are not used.\n",
      "\n",
      "  bst.update(dtrain, iteration=i, fobj=obj)\n"
     ]
    },
    {
     "name": "stdout",
     "output_type": "stream",
     "text": [
      "[CV] END classifier__colsample_bytree=1, classifier__learning_rate=0.05, classifier__max_depth=8, classifier__n_estimators=200, classifier__scale_pos_weight=2, classifier__subsample=1; total time=  35.2s\n"
     ]
    },
    {
     "name": "stderr",
     "output_type": "stream",
     "text": [
      "/Users/goudarzimandanagmail.com/anaconda3/lib/python3.11/site-packages/xgboost/training.py:183: UserWarning: [18:24:09] WARNING: /Users/runner/work/xgboost/xgboost/src/learner.cc:738: \n",
      "Parameters: { \"scale_pos_weight\", \"use_label_encoder\" } are not used.\n",
      "\n",
      "  bst.update(dtrain, iteration=i, fobj=obj)\n",
      "/Users/goudarzimandanagmail.com/anaconda3/lib/python3.11/site-packages/xgboost/training.py:183: UserWarning: [18:24:09] WARNING: /Users/runner/work/xgboost/xgboost/src/learner.cc:738: \n",
      "Parameters: { \"scale_pos_weight\", \"use_label_encoder\" } are not used.\n",
      "\n",
      "  bst.update(dtrain, iteration=i, fobj=obj)\n"
     ]
    },
    {
     "name": "stdout",
     "output_type": "stream",
     "text": [
      "[CV] END classifier__colsample_bytree=0.8, classifier__learning_rate=0.01, classifier__max_depth=6, classifier__n_estimators=100, classifier__scale_pos_weight=2, classifier__subsample=1; total time=  14.4s\n"
     ]
    },
    {
     "name": "stderr",
     "output_type": "stream",
     "text": [
      "/Users/goudarzimandanagmail.com/anaconda3/lib/python3.11/site-packages/xgboost/training.py:183: UserWarning: [18:24:13] WARNING: /Users/runner/work/xgboost/xgboost/src/learner.cc:738: \n",
      "Parameters: { \"scale_pos_weight\", \"use_label_encoder\" } are not used.\n",
      "\n",
      "  bst.update(dtrain, iteration=i, fobj=obj)\n"
     ]
    },
    {
     "name": "stdout",
     "output_type": "stream",
     "text": [
      "[CV] END classifier__colsample_bytree=1, classifier__learning_rate=0.05, classifier__max_depth=8, classifier__n_estimators=200, classifier__scale_pos_weight=2, classifier__subsample=1; total time=  33.8s\n",
      "[CV] END classifier__colsample_bytree=1, classifier__learning_rate=0.01, classifier__max_depth=4, classifier__n_estimators=100, classifier__scale_pos_weight=2, classifier__subsample=1; total time=  11.9s\n",
      "[CV] END classifier__colsample_bytree=1, classifier__learning_rate=0.01, classifier__max_depth=4, classifier__n_estimators=100, classifier__scale_pos_weight=2, classifier__subsample=1; total time=  11.7s\n",
      "[CV] END classifier__colsample_bytree=1, classifier__learning_rate=0.01, classifier__max_depth=4, classifier__n_estimators=100, classifier__scale_pos_weight=2, classifier__subsample=1; total time=  11.4s\n",
      "[CV] END classifier__colsample_bytree=1, classifier__learning_rate=0.05, classifier__max_depth=8, classifier__n_estimators=200, classifier__scale_pos_weight=2, classifier__subsample=1; total time=  35.6s\n",
      "[CV] END classifier__colsample_bytree=1, classifier__learning_rate=0.01, classifier__max_depth=8, classifier__n_estimators=200, classifier__scale_pos_weight=1, classifier__subsample=0.8; total time=  45.3s\n"
     ]
    },
    {
     "name": "stderr",
     "output_type": "stream",
     "text": [
      "/Users/goudarzimandanagmail.com/anaconda3/lib/python3.11/site-packages/xgboost/training.py:183: UserWarning: [18:24:19] WARNING: /Users/runner/work/xgboost/xgboost/src/learner.cc:738: \n",
      "Parameters: { \"scale_pos_weight\", \"use_label_encoder\" } are not used.\n",
      "\n",
      "  bst.update(dtrain, iteration=i, fobj=obj)\n"
     ]
    },
    {
     "name": "stdout",
     "output_type": "stream",
     "text": [
      "[CV] END classifier__colsample_bytree=1, classifier__learning_rate=0.1, classifier__max_depth=4, classifier__n_estimators=100, classifier__scale_pos_weight=2, classifier__subsample=0.8; total time=  11.0s\n"
     ]
    },
    {
     "name": "stderr",
     "output_type": "stream",
     "text": [
      "/Users/goudarzimandanagmail.com/anaconda3/lib/python3.11/site-packages/xgboost/training.py:183: UserWarning: [18:24:27] WARNING: /Users/runner/work/xgboost/xgboost/src/learner.cc:738: \n",
      "Parameters: { \"scale_pos_weight\", \"use_label_encoder\" } are not used.\n",
      "\n",
      "  bst.update(dtrain, iteration=i, fobj=obj)\n"
     ]
    },
    {
     "name": "stdout",
     "output_type": "stream",
     "text": [
      "[CV] END classifier__colsample_bytree=1, classifier__learning_rate=0.1, classifier__max_depth=4, classifier__n_estimators=100, classifier__scale_pos_weight=2, classifier__subsample=0.8; total time=  15.9s\n",
      "[CV] END classifier__colsample_bytree=1, classifier__learning_rate=0.1, classifier__max_depth=4, classifier__n_estimators=100, classifier__scale_pos_weight=2, classifier__subsample=0.8; total time=  18.3s\n"
     ]
    },
    {
     "name": "stderr",
     "output_type": "stream",
     "text": [
      "/Users/goudarzimandanagmail.com/anaconda3/lib/python3.11/site-packages/xgboost/training.py:183: UserWarning: [18:24:32] WARNING: /Users/runner/work/xgboost/xgboost/src/learner.cc:738: \n",
      "Parameters: { \"scale_pos_weight\", \"use_label_encoder\" } are not used.\n",
      "\n",
      "  bst.update(dtrain, iteration=i, fobj=obj)\n",
      "/Users/goudarzimandanagmail.com/anaconda3/lib/python3.11/site-packages/xgboost/training.py:183: UserWarning: [18:24:32] WARNING: /Users/runner/work/xgboost/xgboost/src/learner.cc:738: \n",
      "Parameters: { \"scale_pos_weight\", \"use_label_encoder\" } are not used.\n",
      "\n",
      "  bst.update(dtrain, iteration=i, fobj=obj)\n",
      "/Users/goudarzimandanagmail.com/anaconda3/lib/python3.11/site-packages/xgboost/training.py:183: UserWarning: [18:24:33] WARNING: /Users/runner/work/xgboost/xgboost/src/learner.cc:738: \n",
      "Parameters: { \"scale_pos_weight\", \"use_label_encoder\" } are not used.\n",
      "\n",
      "  bst.update(dtrain, iteration=i, fobj=obj)\n",
      "/Users/goudarzimandanagmail.com/anaconda3/lib/python3.11/site-packages/xgboost/training.py:183: UserWarning: [18:24:34] WARNING: /Users/runner/work/xgboost/xgboost/src/learner.cc:738: \n",
      "Parameters: { \"scale_pos_weight\", \"use_label_encoder\" } are not used.\n",
      "\n",
      "  bst.update(dtrain, iteration=i, fobj=obj)\n",
      "/Users/goudarzimandanagmail.com/anaconda3/lib/python3.11/site-packages/xgboost/training.py:183: UserWarning: [18:24:34] WARNING: /Users/runner/work/xgboost/xgboost/src/learner.cc:738: \n",
      "Parameters: { \"scale_pos_weight\", \"use_label_encoder\" } are not used.\n",
      "\n",
      "  bst.update(dtrain, iteration=i, fobj=obj)\n",
      "/Users/goudarzimandanagmail.com/anaconda3/lib/python3.11/site-packages/xgboost/training.py:183: UserWarning: [18:24:35] WARNING: /Users/runner/work/xgboost/xgboost/src/learner.cc:738: \n",
      "Parameters: { \"scale_pos_weight\", \"use_label_encoder\" } are not used.\n",
      "\n",
      "  bst.update(dtrain, iteration=i, fobj=obj)\n",
      "/Users/goudarzimandanagmail.com/anaconda3/lib/python3.11/site-packages/xgboost/training.py:183: UserWarning: [18:24:35] WARNING: /Users/runner/work/xgboost/xgboost/src/learner.cc:738: \n",
      "Parameters: { \"scale_pos_weight\", \"use_label_encoder\" } are not used.\n",
      "\n",
      "  bst.update(dtrain, iteration=i, fobj=obj)\n",
      "/Users/goudarzimandanagmail.com/anaconda3/lib/python3.11/site-packages/xgboost/training.py:183: UserWarning: [18:24:36] WARNING: /Users/runner/work/xgboost/xgboost/src/learner.cc:738: \n",
      "Parameters: { \"scale_pos_weight\", \"use_label_encoder\" } are not used.\n",
      "\n",
      "  bst.update(dtrain, iteration=i, fobj=obj)\n"
     ]
    },
    {
     "name": "stdout",
     "output_type": "stream",
     "text": [
      "[CV] END classifier__colsample_bytree=0.8, classifier__learning_rate=0.1, classifier__max_depth=4, classifier__n_estimators=100, classifier__scale_pos_weight=1, classifier__subsample=1; total time=  22.5s\n",
      "[CV] END classifier__colsample_bytree=0.8, classifier__learning_rate=0.1, classifier__max_depth=4, classifier__n_estimators=100, classifier__scale_pos_weight=1, classifier__subsample=1; total time=  23.0s\n",
      "[CV] END classifier__colsample_bytree=0.8, classifier__learning_rate=0.1, classifier__max_depth=4, classifier__n_estimators=100, classifier__scale_pos_weight=1, classifier__subsample=1; total time=  24.3s\n"
     ]
    },
    {
     "name": "stderr",
     "output_type": "stream",
     "text": [
      "/Users/goudarzimandanagmail.com/anaconda3/lib/python3.11/site-packages/xgboost/training.py:183: UserWarning: [18:24:41] WARNING: /Users/runner/work/xgboost/xgboost/src/learner.cc:738: \n",
      "Parameters: { \"scale_pos_weight\", \"use_label_encoder\" } are not used.\n",
      "\n",
      "  bst.update(dtrain, iteration=i, fobj=obj)\n",
      "/Users/goudarzimandanagmail.com/anaconda3/lib/python3.11/site-packages/xgboost/training.py:183: UserWarning: [18:24:43] WARNING: /Users/runner/work/xgboost/xgboost/src/learner.cc:738: \n",
      "Parameters: { \"scale_pos_weight\", \"use_label_encoder\" } are not used.\n",
      "\n",
      "  bst.update(dtrain, iteration=i, fobj=obj)\n",
      "/Users/goudarzimandanagmail.com/anaconda3/lib/python3.11/site-packages/xgboost/training.py:183: UserWarning: [18:24:44] WARNING: /Users/runner/work/xgboost/xgboost/src/learner.cc:738: \n",
      "Parameters: { \"scale_pos_weight\", \"use_label_encoder\" } are not used.\n",
      "\n",
      "  bst.update(dtrain, iteration=i, fobj=obj)\n"
     ]
    },
    {
     "name": "stdout",
     "output_type": "stream",
     "text": [
      "[CV] END classifier__colsample_bytree=1, classifier__learning_rate=0.1, classifier__max_depth=8, classifier__n_estimators=100, classifier__scale_pos_weight=1, classifier__subsample=1; total time=  27.4s\n",
      "[CV] END classifier__colsample_bytree=1, classifier__learning_rate=0.1, classifier__max_depth=8, classifier__n_estimators=100, classifier__scale_pos_weight=1, classifier__subsample=1; total time=  28.8s\n",
      "[CV] END classifier__colsample_bytree=1, classifier__learning_rate=0.1, classifier__max_depth=8, classifier__n_estimators=100, classifier__scale_pos_weight=1, classifier__subsample=1; total time=  29.6s\n"
     ]
    },
    {
     "name": "stderr",
     "output_type": "stream",
     "text": [
      "/Users/goudarzimandanagmail.com/anaconda3/lib/python3.11/site-packages/xgboost/training.py:183: UserWarning: [18:24:52] WARNING: /Users/runner/work/xgboost/xgboost/src/learner.cc:738: \n",
      "Parameters: { \"scale_pos_weight\", \"use_label_encoder\" } are not used.\n",
      "\n",
      "  bst.update(dtrain, iteration=i, fobj=obj)\n",
      "/Users/goudarzimandanagmail.com/anaconda3/lib/python3.11/site-packages/xgboost/training.py:183: UserWarning: [18:24:52] WARNING: /Users/runner/work/xgboost/xgboost/src/learner.cc:738: \n",
      "Parameters: { \"scale_pos_weight\", \"use_label_encoder\" } are not used.\n",
      "\n",
      "  bst.update(dtrain, iteration=i, fobj=obj)\n"
     ]
    },
    {
     "name": "stdout",
     "output_type": "stream",
     "text": [
      "[CV] END classifier__colsample_bytree=1, classifier__learning_rate=0.05, classifier__max_depth=6, classifier__n_estimators=100, classifier__scale_pos_weight=2, classifier__subsample=1; total time=  14.1s\n"
     ]
    },
    {
     "name": "stderr",
     "output_type": "stream",
     "text": [
      "/Users/goudarzimandanagmail.com/anaconda3/lib/python3.11/site-packages/xgboost/training.py:183: UserWarning: [18:24:54] WARNING: /Users/runner/work/xgboost/xgboost/src/learner.cc:738: \n",
      "Parameters: { \"scale_pos_weight\", \"use_label_encoder\" } are not used.\n",
      "\n",
      "  bst.update(dtrain, iteration=i, fobj=obj)\n"
     ]
    },
    {
     "name": "stdout",
     "output_type": "stream",
     "text": [
      "[CV] END classifier__colsample_bytree=1, classifier__learning_rate=0.05, classifier__max_depth=6, classifier__n_estimators=100, classifier__scale_pos_weight=2, classifier__subsample=1; total time=  14.6s\n"
     ]
    },
    {
     "name": "stderr",
     "output_type": "stream",
     "text": [
      "/Users/goudarzimandanagmail.com/anaconda3/lib/python3.11/site-packages/xgboost/training.py:183: UserWarning: [18:24:57] WARNING: /Users/runner/work/xgboost/xgboost/src/learner.cc:738: \n",
      "Parameters: { \"scale_pos_weight\", \"use_label_encoder\" } are not used.\n",
      "\n",
      "  bst.update(dtrain, iteration=i, fobj=obj)\n",
      "/Users/goudarzimandanagmail.com/anaconda3/lib/python3.11/site-packages/xgboost/training.py:183: UserWarning: [18:24:58] WARNING: /Users/runner/work/xgboost/xgboost/src/learner.cc:738: \n",
      "Parameters: { \"scale_pos_weight\", \"use_label_encoder\" } are not used.\n",
      "\n",
      "  bst.update(dtrain, iteration=i, fobj=obj)\n"
     ]
    },
    {
     "name": "stdout",
     "output_type": "stream",
     "text": [
      "[CV] END classifier__colsample_bytree=1, classifier__learning_rate=0.05, classifier__max_depth=6, classifier__n_estimators=100, classifier__scale_pos_weight=2, classifier__subsample=1; total time=  14.5s\n"
     ]
    },
    {
     "name": "stderr",
     "output_type": "stream",
     "text": [
      "/Users/goudarzimandanagmail.com/anaconda3/lib/python3.11/site-packages/xgboost/training.py:183: UserWarning: [18:25:06] WARNING: /Users/runner/work/xgboost/xgboost/src/learner.cc:738: \n",
      "Parameters: { \"scale_pos_weight\", \"use_label_encoder\" } are not used.\n",
      "\n",
      "  bst.update(dtrain, iteration=i, fobj=obj)\n"
     ]
    },
    {
     "name": "stdout",
     "output_type": "stream",
     "text": [
      "[CV] END classifier__colsample_bytree=1, classifier__learning_rate=0.1, classifier__max_depth=4, classifier__n_estimators=200, classifier__scale_pos_weight=5, classifier__subsample=0.8; total time=  14.3s\n",
      "[CV] END classifier__colsample_bytree=1, classifier__learning_rate=0.01, classifier__max_depth=8, classifier__n_estimators=200, classifier__scale_pos_weight=1, classifier__subsample=1; total time=  44.1s\n"
     ]
    },
    {
     "name": "stderr",
     "output_type": "stream",
     "text": [
      "/Users/goudarzimandanagmail.com/anaconda3/lib/python3.11/site-packages/xgboost/training.py:183: UserWarning: [18:25:13] WARNING: /Users/runner/work/xgboost/xgboost/src/learner.cc:738: \n",
      "Parameters: { \"scale_pos_weight\", \"use_label_encoder\" } are not used.\n",
      "\n",
      "  bst.update(dtrain, iteration=i, fobj=obj)\n"
     ]
    },
    {
     "name": "stdout",
     "output_type": "stream",
     "text": [
      "[CV] END classifier__colsample_bytree=1, classifier__learning_rate=0.01, classifier__max_depth=8, classifier__n_estimators=200, classifier__scale_pos_weight=1, classifier__subsample=1; total time=  43.8s\n",
      "[CV] END classifier__colsample_bytree=1, classifier__learning_rate=0.1, classifier__max_depth=4, classifier__n_estimators=200, classifier__scale_pos_weight=5, classifier__subsample=0.8; total time=  14.3s\n"
     ]
    },
    {
     "name": "stderr",
     "output_type": "stream",
     "text": [
      "/Users/goudarzimandanagmail.com/anaconda3/lib/python3.11/site-packages/xgboost/training.py:183: UserWarning: [18:25:17] WARNING: /Users/runner/work/xgboost/xgboost/src/learner.cc:738: \n",
      "Parameters: { \"scale_pos_weight\", \"use_label_encoder\" } are not used.\n",
      "\n",
      "  bst.update(dtrain, iteration=i, fobj=obj)\n"
     ]
    },
    {
     "name": "stdout",
     "output_type": "stream",
     "text": [
      "[CV] END classifier__colsample_bytree=1, classifier__learning_rate=0.01, classifier__max_depth=8, classifier__n_estimators=200, classifier__scale_pos_weight=1, classifier__subsample=1; total time=  43.5s\n"
     ]
    },
    {
     "name": "stderr",
     "output_type": "stream",
     "text": [
      "/Users/goudarzimandanagmail.com/anaconda3/lib/python3.11/site-packages/xgboost/training.py:183: UserWarning: [18:25:21] WARNING: /Users/runner/work/xgboost/xgboost/src/learner.cc:738: \n",
      "Parameters: { \"scale_pos_weight\", \"use_label_encoder\" } are not used.\n",
      "\n",
      "  bst.update(dtrain, iteration=i, fobj=obj)\n",
      "/Users/goudarzimandanagmail.com/anaconda3/lib/python3.11/site-packages/xgboost/training.py:183: UserWarning: [18:25:21] WARNING: /Users/runner/work/xgboost/xgboost/src/learner.cc:738: \n",
      "Parameters: { \"scale_pos_weight\", \"use_label_encoder\" } are not used.\n",
      "\n",
      "  bst.update(dtrain, iteration=i, fobj=obj)\n"
     ]
    },
    {
     "name": "stdout",
     "output_type": "stream",
     "text": [
      "[CV] END classifier__colsample_bytree=1, classifier__learning_rate=0.1, classifier__max_depth=4, classifier__n_estimators=200, classifier__scale_pos_weight=5, classifier__subsample=0.8; total time=  14.2s\n"
     ]
    },
    {
     "name": "stderr",
     "output_type": "stream",
     "text": [
      "/Users/goudarzimandanagmail.com/anaconda3/lib/python3.11/site-packages/xgboost/training.py:183: UserWarning: [18:25:24] WARNING: /Users/runner/work/xgboost/xgboost/src/learner.cc:738: \n",
      "Parameters: { \"scale_pos_weight\", \"use_label_encoder\" } are not used.\n",
      "\n",
      "  bst.update(dtrain, iteration=i, fobj=obj)\n"
     ]
    },
    {
     "name": "stdout",
     "output_type": "stream",
     "text": [
      "[CV] END classifier__colsample_bytree=0.8, classifier__learning_rate=0.01, classifier__max_depth=8, classifier__n_estimators=200, classifier__scale_pos_weight=1, classifier__subsample=0.8; total time=  37.2s\n"
     ]
    },
    {
     "name": "stderr",
     "output_type": "stream",
     "text": [
      "/Users/goudarzimandanagmail.com/anaconda3/lib/python3.11/site-packages/xgboost/training.py:183: UserWarning: [18:25:26] WARNING: /Users/runner/work/xgboost/xgboost/src/learner.cc:738: \n",
      "Parameters: { \"scale_pos_weight\", \"use_label_encoder\" } are not used.\n",
      "\n",
      "  bst.update(dtrain, iteration=i, fobj=obj)\n"
     ]
    },
    {
     "name": "stdout",
     "output_type": "stream",
     "text": [
      "[CV] END classifier__colsample_bytree=0.8, classifier__learning_rate=0.01, classifier__max_depth=4, classifier__n_estimators=200, classifier__scale_pos_weight=2, classifier__subsample=1; total time=  14.5s\n",
      "[CV] END classifier__colsample_bytree=0.8, classifier__learning_rate=0.01, classifier__max_depth=8, classifier__n_estimators=200, classifier__scale_pos_weight=1, classifier__subsample=0.8; total time=  38.0s\n"
     ]
    },
    {
     "name": "stderr",
     "output_type": "stream",
     "text": [
      "/Users/goudarzimandanagmail.com/anaconda3/lib/python3.11/site-packages/xgboost/training.py:183: UserWarning: [18:25:29] WARNING: /Users/runner/work/xgboost/xgboost/src/learner.cc:738: \n",
      "Parameters: { \"scale_pos_weight\", \"use_label_encoder\" } are not used.\n",
      "\n",
      "  bst.update(dtrain, iteration=i, fobj=obj)\n"
     ]
    },
    {
     "name": "stdout",
     "output_type": "stream",
     "text": [
      "[CV] END classifier__colsample_bytree=0.8, classifier__learning_rate=0.01, classifier__max_depth=8, classifier__n_estimators=200, classifier__scale_pos_weight=1, classifier__subsample=0.8; total time=  36.9s\n",
      "[CV] END classifier__colsample_bytree=0.8, classifier__learning_rate=0.01, classifier__max_depth=4, classifier__n_estimators=200, classifier__scale_pos_weight=2, classifier__subsample=1; total time=  15.4s\n",
      "[CV] END classifier__colsample_bytree=0.8, classifier__learning_rate=0.01, classifier__max_depth=4, classifier__n_estimators=200, classifier__scale_pos_weight=2, classifier__subsample=1; total time=  15.3s\n"
     ]
    },
    {
     "name": "stderr",
     "output_type": "stream",
     "text": [
      "/Users/goudarzimandanagmail.com/anaconda3/lib/python3.11/site-packages/xgboost/training.py:183: UserWarning: [18:25:32] WARNING: /Users/runner/work/xgboost/xgboost/src/learner.cc:738: \n",
      "Parameters: { \"scale_pos_weight\", \"use_label_encoder\" } are not used.\n",
      "\n",
      "  bst.update(dtrain, iteration=i, fobj=obj)\n",
      "/Users/goudarzimandanagmail.com/anaconda3/lib/python3.11/site-packages/xgboost/training.py:183: UserWarning: [18:25:32] WARNING: /Users/runner/work/xgboost/xgboost/src/learner.cc:738: \n",
      "Parameters: { \"scale_pos_weight\", \"use_label_encoder\" } are not used.\n",
      "\n",
      "  bst.update(dtrain, iteration=i, fobj=obj)\n",
      "/Users/goudarzimandanagmail.com/anaconda3/lib/python3.11/site-packages/xgboost/training.py:183: UserWarning: [18:25:35] WARNING: /Users/runner/work/xgboost/xgboost/src/learner.cc:738: \n",
      "Parameters: { \"scale_pos_weight\", \"use_label_encoder\" } are not used.\n",
      "\n",
      "  bst.update(dtrain, iteration=i, fobj=obj)\n",
      "/Users/goudarzimandanagmail.com/anaconda3/lib/python3.11/site-packages/xgboost/training.py:183: UserWarning: [18:25:37] WARNING: /Users/runner/work/xgboost/xgboost/src/learner.cc:738: \n",
      "Parameters: { \"scale_pos_weight\", \"use_label_encoder\" } are not used.\n",
      "\n",
      "  bst.update(dtrain, iteration=i, fobj=obj)\n",
      "/Users/goudarzimandanagmail.com/anaconda3/lib/python3.11/site-packages/xgboost/training.py:183: UserWarning: [18:25:37] WARNING: /Users/runner/work/xgboost/xgboost/src/learner.cc:738: \n",
      "Parameters: { \"scale_pos_weight\", \"use_label_encoder\" } are not used.\n",
      "\n",
      "  bst.update(dtrain, iteration=i, fobj=obj)\n"
     ]
    },
    {
     "name": "stdout",
     "output_type": "stream",
     "text": [
      "[CV] END classifier__colsample_bytree=0.8, classifier__learning_rate=0.05, classifier__max_depth=8, classifier__n_estimators=200, classifier__scale_pos_weight=1, classifier__subsample=1; total time=  29.6s\n",
      "[CV] END classifier__colsample_bytree=0.8, classifier__learning_rate=0.05, classifier__max_depth=8, classifier__n_estimators=200, classifier__scale_pos_weight=1, classifier__subsample=1; total time=  29.7s\n",
      "[CV] END classifier__colsample_bytree=1, classifier__learning_rate=0.05, classifier__max_depth=8, classifier__n_estimators=100, classifier__scale_pos_weight=5, classifier__subsample=0.8; total time=  21.7s\n",
      "[CV] END classifier__colsample_bytree=1, classifier__learning_rate=0.05, classifier__max_depth=8, classifier__n_estimators=100, classifier__scale_pos_weight=5, classifier__subsample=0.8; total time=  21.7s\n"
     ]
    },
    {
     "name": "stderr",
     "output_type": "stream",
     "text": [
      "/Users/goudarzimandanagmail.com/anaconda3/lib/python3.11/site-packages/xgboost/training.py:183: UserWarning: [18:25:54] WARNING: /Users/runner/work/xgboost/xgboost/src/learner.cc:738: \n",
      "Parameters: { \"scale_pos_weight\", \"use_label_encoder\" } are not used.\n",
      "\n",
      "  bst.update(dtrain, iteration=i, fobj=obj)\n"
     ]
    },
    {
     "name": "stdout",
     "output_type": "stream",
     "text": [
      "[CV] END classifier__colsample_bytree=0.8, classifier__learning_rate=0.05, classifier__max_depth=8, classifier__n_estimators=200, classifier__scale_pos_weight=1, classifier__subsample=1; total time=  29.7s\n"
     ]
    },
    {
     "name": "stderr",
     "output_type": "stream",
     "text": [
      "/Users/goudarzimandanagmail.com/anaconda3/lib/python3.11/site-packages/xgboost/training.py:183: UserWarning: [18:25:58] WARNING: /Users/runner/work/xgboost/xgboost/src/learner.cc:738: \n",
      "Parameters: { \"scale_pos_weight\", \"use_label_encoder\" } are not used.\n",
      "\n",
      "  bst.update(dtrain, iteration=i, fobj=obj)\n",
      "/Users/goudarzimandanagmail.com/anaconda3/lib/python3.11/site-packages/xgboost/training.py:183: UserWarning: [18:25:59] WARNING: /Users/runner/work/xgboost/xgboost/src/learner.cc:738: \n",
      "Parameters: { \"scale_pos_weight\", \"use_label_encoder\" } are not used.\n",
      "\n",
      "  bst.update(dtrain, iteration=i, fobj=obj)\n",
      "/Users/goudarzimandanagmail.com/anaconda3/lib/python3.11/site-packages/xgboost/training.py:183: UserWarning: [18:25:59] WARNING: /Users/runner/work/xgboost/xgboost/src/learner.cc:738: \n",
      "Parameters: { \"scale_pos_weight\", \"use_label_encoder\" } are not used.\n",
      "\n",
      "  bst.update(dtrain, iteration=i, fobj=obj)\n",
      "/Users/goudarzimandanagmail.com/anaconda3/lib/python3.11/site-packages/xgboost/training.py:183: UserWarning: [18:25:59] WARNING: /Users/runner/work/xgboost/xgboost/src/learner.cc:738: \n",
      "Parameters: { \"scale_pos_weight\", \"use_label_encoder\" } are not used.\n",
      "\n",
      "  bst.update(dtrain, iteration=i, fobj=obj)\n"
     ]
    },
    {
     "name": "stdout",
     "output_type": "stream",
     "text": [
      "[CV] END classifier__colsample_bytree=1, classifier__learning_rate=0.05, classifier__max_depth=8, classifier__n_estimators=200, classifier__scale_pos_weight=2, classifier__subsample=0.8; total time=  34.5s\n",
      "[CV] END classifier__colsample_bytree=1, classifier__learning_rate=0.05, classifier__max_depth=8, classifier__n_estimators=200, classifier__scale_pos_weight=2, classifier__subsample=0.8; total time=  34.3s\n",
      "[CV] END classifier__colsample_bytree=1, classifier__learning_rate=0.05, classifier__max_depth=8, classifier__n_estimators=200, classifier__scale_pos_weight=2, classifier__subsample=0.8; total time=  34.1s\n"
     ]
    },
    {
     "name": "stderr",
     "output_type": "stream",
     "text": [
      "/Users/goudarzimandanagmail.com/anaconda3/lib/python3.11/site-packages/xgboost/training.py:183: UserWarning: [18:26:06] WARNING: /Users/runner/work/xgboost/xgboost/src/learner.cc:738: \n",
      "Parameters: { \"scale_pos_weight\", \"use_label_encoder\" } are not used.\n",
      "\n",
      "  bst.update(dtrain, iteration=i, fobj=obj)\n",
      "/Users/goudarzimandanagmail.com/anaconda3/lib/python3.11/site-packages/xgboost/training.py:183: UserWarning: [18:26:06] WARNING: /Users/runner/work/xgboost/xgboost/src/learner.cc:738: \n",
      "Parameters: { \"scale_pos_weight\", \"use_label_encoder\" } are not used.\n",
      "\n",
      "  bst.update(dtrain, iteration=i, fobj=obj)\n",
      "/Users/goudarzimandanagmail.com/anaconda3/lib/python3.11/site-packages/xgboost/training.py:183: UserWarning: [18:26:08] WARNING: /Users/runner/work/xgboost/xgboost/src/learner.cc:738: \n",
      "Parameters: { \"scale_pos_weight\", \"use_label_encoder\" } are not used.\n",
      "\n",
      "  bst.update(dtrain, iteration=i, fobj=obj)\n"
     ]
    },
    {
     "name": "stdout",
     "output_type": "stream",
     "text": [
      "[CV] END classifier__colsample_bytree=1, classifier__learning_rate=0.05, classifier__max_depth=4, classifier__n_estimators=200, classifier__scale_pos_weight=5, classifier__subsample=0.8; total time=  16.0s\n",
      "[CV] END classifier__colsample_bytree=1, classifier__learning_rate=0.05, classifier__max_depth=8, classifier__n_estimators=100, classifier__scale_pos_weight=5, classifier__subsample=0.8; total time=  21.1s\n"
     ]
    },
    {
     "name": "stderr",
     "output_type": "stream",
     "text": [
      "/Users/goudarzimandanagmail.com/anaconda3/lib/python3.11/site-packages/xgboost/training.py:183: UserWarning: [18:26:15] WARNING: /Users/runner/work/xgboost/xgboost/src/learner.cc:738: \n",
      "Parameters: { \"scale_pos_weight\", \"use_label_encoder\" } are not used.\n",
      "\n",
      "  bst.update(dtrain, iteration=i, fobj=obj)\n",
      "/Users/goudarzimandanagmail.com/anaconda3/lib/python3.11/site-packages/xgboost/training.py:183: UserWarning: [18:26:15] WARNING: /Users/runner/work/xgboost/xgboost/src/learner.cc:738: \n",
      "Parameters: { \"scale_pos_weight\", \"use_label_encoder\" } are not used.\n",
      "\n",
      "  bst.update(dtrain, iteration=i, fobj=obj)\n"
     ]
    },
    {
     "name": "stdout",
     "output_type": "stream",
     "text": [
      "[CV] END classifier__colsample_bytree=1, classifier__learning_rate=0.05, classifier__max_depth=4, classifier__n_estimators=200, classifier__scale_pos_weight=5, classifier__subsample=0.8; total time=  14.6s\n",
      "[CV] END classifier__colsample_bytree=1, classifier__learning_rate=0.05, classifier__max_depth=4, classifier__n_estimators=200, classifier__scale_pos_weight=5, classifier__subsample=0.8; total time=  14.7s\n",
      "[CV] END classifier__colsample_bytree=0.8, classifier__learning_rate=0.01, classifier__max_depth=6, classifier__n_estimators=200, classifier__scale_pos_weight=1, classifier__subsample=0.8; total time=  25.0s\n",
      "[CV] END classifier__colsample_bytree=0.8, classifier__learning_rate=0.01, classifier__max_depth=6, classifier__n_estimators=200, classifier__scale_pos_weight=1, classifier__subsample=0.8; total time=  24.6s\n",
      "[CV] END classifier__colsample_bytree=0.8, classifier__learning_rate=0.01, classifier__max_depth=6, classifier__n_estimators=200, classifier__scale_pos_weight=1, classifier__subsample=0.8; total time=  24.9s\n",
      "[CV] END classifier__colsample_bytree=0.8, classifier__learning_rate=0.05, classifier__max_depth=8, classifier__n_estimators=200, classifier__scale_pos_weight=1, classifier__subsample=0.8; total time=  23.5s\n",
      "[CV] END classifier__colsample_bytree=0.8, classifier__learning_rate=0.05, classifier__max_depth=8, classifier__n_estimators=200, classifier__scale_pos_weight=1, classifier__subsample=0.8; total time=  20.5s\n",
      "[CV] END classifier__colsample_bytree=0.8, classifier__learning_rate=0.05, classifier__max_depth=8, classifier__n_estimators=200, classifier__scale_pos_weight=1, classifier__subsample=0.8; total time=  20.1s\n"
     ]
    },
    {
     "name": "stderr",
     "output_type": "stream",
     "text": [
      "/Users/goudarzimandanagmail.com/anaconda3/lib/python3.11/site-packages/xgboost/training.py:183: UserWarning: [18:26:37] WARNING: /Users/runner/work/xgboost/xgboost/src/learner.cc:738: \n",
      "Parameters: { \"scale_pos_weight\", \"use_label_encoder\" } are not used.\n",
      "\n",
      "  bst.update(dtrain, iteration=i, fobj=obj)\n"
     ]
    },
    {
     "name": "stdout",
     "output_type": "stream",
     "text": [
      "Best XGBoost - Validation Set Performance:\n",
      "              precision    recall  f1-score   support\n",
      "\n",
      "        High       0.82      0.92      0.87      8819\n",
      "         Low       0.55      0.39      0.46      1702\n",
      "      Medium       0.21      0.08      0.11       965\n",
      "\n",
      "    accuracy                           0.77     11486\n",
      "   macro avg       0.53      0.46      0.48     11486\n",
      "weighted avg       0.73      0.77      0.74     11486\n",
      "\n",
      "Confusion Matrix:\n",
      "[[8147  435  237]\n",
      " [1004  658   40]\n",
      " [ 798   93   74]]\n"
     ]
    }
   ],
   "source": [
    "cv_strategy = StratifiedKFold(n_splits=3, shuffle=True, random_state=42)\n",
    "\n",
    "random_search = RandomizedSearchCV(\n",
    "    estimator=xgb_pipeline,\n",
    "    param_distributions=param_grid_xgboost,\n",
    "    n_iter=20,  # number of combinations to try\n",
    "    scoring='f1_weighted',\n",
    "    n_jobs=-1,\n",
    "    cv=cv_strategy,\n",
    "    verbose=2,\n",
    "    random_state=42\n",
    ")\n",
    "random_search.fit(X_train, y_train)\n",
    "best_model = random_search.best_estimator_\n",
    "\n",
    "y_val_pred = best_model.predict(X_val)\n",
    "print(\"Best XGBoost - Validation Set Performance:\")\n",
    "print(classification_report(y_val, y_val_pred, target_names=label_encoder.classes_, zero_division=0))\n",
    "print(\"Confusion Matrix:\")\n",
    "print(confusion_matrix(y_val, y_val_pred))"
   ]
  },
  {
   "cell_type": "markdown",
   "id": "55a0ba76",
   "metadata": {},
   "source": [
    "### Validation Results\n",
    "- **Accuracy**: 77%\n",
    "- **Macro F1-score**: 0.48\n",
    "- **Weighted F1-score**: 0.74\n",
    "\n",
    "##### Class-wise Performance:\n",
    "- **High**: F1 = 0.87 (strong)\n",
    "- **Low**: F1 = 0.46 (moderate)\n",
    "- **Medium**: F1 = 0.11 (very weak)\n",
    "\n",
    "Despite tuning, XGBoost still struggles with the **Medium** class, confirming that Random Forest may be better suited for this task in our dataset."
   ]
  },
  {
   "cell_type": "markdown",
   "id": "26012598",
   "metadata": {},
   "source": [
    "## Final Model Evaluation on Test Set (Random Forest)\n",
    "\n",
    "We evaluated the best-performing Random Forest model (with SMOTE and hyperparameter tuning) on the test set."
   ]
  },
  {
   "cell_type": "code",
   "execution_count": 163,
   "id": "f981414a",
   "metadata": {},
   "outputs": [
    {
     "name": "stdout",
     "output_type": "stream",
     "text": [
      "              precision    recall  f1-score   support\n",
      "\n",
      "           0       0.86      0.95      0.90      8819\n",
      "           1       0.70      0.55      0.61      1702\n",
      "           2       0.52      0.25      0.34       965\n",
      "\n",
      "    accuracy                           0.83     11486\n",
      "   macro avg       0.69      0.58      0.62     11486\n",
      "weighted avg       0.81      0.83      0.81     11486\n",
      "\n",
      "[[8337  317  165]\n",
      " [ 716  934   52]\n",
      " [ 642   85  238]]\n"
     ]
    }
   ],
   "source": [
    "y_test_pred = best_rf_model.predict(X_test)\n",
    "print(classification_report(y_test, y_test_pred))\n",
    "print(confusion_matrix(y_test, y_test_pred))\n"
   ]
  },
  {
   "cell_type": "markdown",
   "id": "973ceba2",
   "metadata": {},
   "source": [
    "### Test Set Results\n",
    "- **Accuracy**: 83%\n",
    "- **Macro F1-score**: 0.62\n",
    "- **Weighted F1-score**: 0.81\n",
    "\n",
    "##### Class-wise Performance:\n",
    "- **High**: F1 = 0.90 (excellent)\n",
    "- **Low**: F1 = 0.61 (solid)\n",
    "- **Medium**: F1 = 0.34 (improved but still limited)\n",
    "\n",
    "The model maintains strong performance across all classes and generalizes well from validation to test data, confirming its robustness and reliability.\n"
   ]
  },
  {
   "cell_type": "markdown",
   "id": "f4ff9a7d",
   "metadata": {},
   "source": [
    "## Anomaly Detection on Review Behavior\n",
    "\n",
    "In this final step, we use **Isolation Forest** to identify outliers in review behavior. These anomalies may represent:\n",
    "- Extremely low or high scores in unexpected situations\n",
    "- Potential data errors or exceptional service failures\n",
    "\n",
    "We apply the method to selected numeric features influencing customer satisfaction."
   ]
  },
  {
   "cell_type": "code",
   "execution_count": 165,
   "id": "7c739966-aa7f-44f8-9321-3757eb6fec91",
   "metadata": {},
   "outputs": [
    {
     "name": "stdout",
     "output_type": "stream",
     "text": [
      "Anomaly counts:\n",
      "  1    113708\n",
      "-1      1149\n",
      "Name: anomaly, dtype: int64\n"
     ]
    }
   ],
   "source": [
    "anomaly_features = df1[[\n",
    "    'Review_Score',\n",
    "    'Is_late',\n",
    "    'Delivery_Time_Days',\n",
    "    'Avg_delivery_time',\n",
    "    'Payment_Value',\n",
    "    'Package_Volume',\n",
    "    'Product_Weight_Gr'\n",
    "]]\n",
    "\n",
    "iso_forest = IsolationForest(n_estimators=100, contamination=0.01, random_state=42)\n",
    "df1['anomaly'] = iso_forest.fit_predict(anomaly_features)\n",
    "\n",
    "# Anomaly label: -1 = outlier, 1 = normal\n",
    "anomaly_counts = df1['anomaly'].value_counts()\n",
    "print(\"Anomaly counts:\\n\", anomaly_counts)\n"
   ]
  },
  {
   "cell_type": "code",
   "execution_count": 168,
   "id": "12111e77",
   "metadata": {},
   "outputs": [
    {
     "data": {
      "text/html": [
       "<div>\n",
       "<style scoped>\n",
       "    .dataframe tbody tr th:only-of-type {\n",
       "        vertical-align: middle;\n",
       "    }\n",
       "\n",
       "    .dataframe tbody tr th {\n",
       "        vertical-align: top;\n",
       "    }\n",
       "\n",
       "    .dataframe thead th {\n",
       "        text-align: right;\n",
       "    }\n",
       "</style>\n",
       "<table border=\"1\" class=\"dataframe\">\n",
       "  <thead>\n",
       "    <tr style=\"text-align: right;\">\n",
       "      <th></th>\n",
       "      <th>Review_Score</th>\n",
       "      <th>Is_late</th>\n",
       "      <th>Delivery_Time_Days</th>\n",
       "      <th>Avg_delivery_time</th>\n",
       "      <th>Payment_Value</th>\n",
       "    </tr>\n",
       "  </thead>\n",
       "  <tbody>\n",
       "    <tr>\n",
       "      <th>50966</th>\n",
       "      <td>5</td>\n",
       "      <td>1</td>\n",
       "      <td>187</td>\n",
       "      <td>29.266667</td>\n",
       "      <td>255.04</td>\n",
       "    </tr>\n",
       "    <tr>\n",
       "      <th>3383</th>\n",
       "      <td>1</td>\n",
       "      <td>1</td>\n",
       "      <td>31</td>\n",
       "      <td>7.898638</td>\n",
       "      <td>117.69</td>\n",
       "    </tr>\n",
       "    <tr>\n",
       "      <th>13046</th>\n",
       "      <td>5</td>\n",
       "      <td>0</td>\n",
       "      <td>4</td>\n",
       "      <td>12.790827</td>\n",
       "      <td>2314.82</td>\n",
       "    </tr>\n",
       "    <tr>\n",
       "      <th>32527</th>\n",
       "      <td>4</td>\n",
       "      <td>0</td>\n",
       "      <td>3</td>\n",
       "      <td>7.898638</td>\n",
       "      <td>1797.73</td>\n",
       "    </tr>\n",
       "    <tr>\n",
       "      <th>88351</th>\n",
       "      <td>1</td>\n",
       "      <td>1</td>\n",
       "      <td>28</td>\n",
       "      <td>15.653846</td>\n",
       "      <td>543.29</td>\n",
       "    </tr>\n",
       "    <tr>\n",
       "      <th>101871</th>\n",
       "      <td>3</td>\n",
       "      <td>1</td>\n",
       "      <td>40</td>\n",
       "      <td>16.010956</td>\n",
       "      <td>320.39</td>\n",
       "    </tr>\n",
       "    <tr>\n",
       "      <th>77418</th>\n",
       "      <td>1</td>\n",
       "      <td>1</td>\n",
       "      <td>45</td>\n",
       "      <td>24.773519</td>\n",
       "      <td>386.00</td>\n",
       "    </tr>\n",
       "    <tr>\n",
       "      <th>110109</th>\n",
       "      <td>5</td>\n",
       "      <td>0</td>\n",
       "      <td>11</td>\n",
       "      <td>15.695652</td>\n",
       "      <td>1155.56</td>\n",
       "    </tr>\n",
       "    <tr>\n",
       "      <th>109585</th>\n",
       "      <td>1</td>\n",
       "      <td>1</td>\n",
       "      <td>42</td>\n",
       "      <td>16.010956</td>\n",
       "      <td>279.17</td>\n",
       "    </tr>\n",
       "    <tr>\n",
       "      <th>105226</th>\n",
       "      <td>1</td>\n",
       "      <td>0</td>\n",
       "      <td>10</td>\n",
       "      <td>12.790827</td>\n",
       "      <td>1421.69</td>\n",
       "    </tr>\n",
       "  </tbody>\n",
       "</table>\n",
       "</div>"
      ],
      "text/plain": [
       "        Review_Score  Is_late  Delivery_Time_Days  Avg_delivery_time  \\\n",
       "50966              5        1                 187          29.266667   \n",
       "3383               1        1                  31           7.898638   \n",
       "13046              5        0                   4          12.790827   \n",
       "32527              4        0                   3           7.898638   \n",
       "88351              1        1                  28          15.653846   \n",
       "101871             3        1                  40          16.010956   \n",
       "77418              1        1                  45          24.773519   \n",
       "110109             5        0                  11          15.695652   \n",
       "109585             1        1                  42          16.010956   \n",
       "105226             1        0                  10          12.790827   \n",
       "\n",
       "        Payment_Value  \n",
       "50966          255.04  \n",
       "3383           117.69  \n",
       "13046         2314.82  \n",
       "32527         1797.73  \n",
       "88351          543.29  \n",
       "101871         320.39  \n",
       "77418          386.00  \n",
       "110109        1155.56  \n",
       "109585         279.17  \n",
       "105226        1421.69  "
      ]
     },
     "execution_count": 168,
     "metadata": {},
     "output_type": "execute_result"
    }
   ],
   "source": [
    "df1[df1['anomaly'] == -1][[\n",
    "    'Review_Score', 'Is_late', 'Delivery_Time_Days', \n",
    "    'Avg_delivery_time', 'Payment_Value'\n",
    "]].sample(10)\n"
   ]
  },
  {
   "cell_type": "code",
   "execution_count": 166,
   "id": "1ccf80a3",
   "metadata": {},
   "outputs": [
    {
     "data": {
      "image/png": "[encoded data removed]",
      "text/plain": [
       "<Figure size 800x500 with 1 Axes>"
      ]
     },
     "metadata": {},
     "output_type": "display_data"
    }
   ],
   "source": [
    "plt.figure(figsize=(8, 5))\n",
    "sns.scatterplot(\n",
    "    data=df1,\n",
    "    x='Delivery_Time_Days',\n",
    "    y='Review_Score',\n",
    "    hue='anomaly',\n",
    "    palette={1: 'blue', -1: 'red'}\n",
    ")\n",
    "plt.title('Anomaly Detection: Review Score vs Delivery Time')\n",
    "plt.legend(title='Anomaly')\n",
    "plt.tight_layout()\n",
    "plt.show()\n"
   ]
  },
  {
   "cell_type": "markdown",
   "id": "0b3cb101",
   "metadata": {},
   "source": [
    "### Key Observations:\n",
    "- Most reviews follow expected patterns: short delivery → high score\n",
    "- Red dots highlight anomalies, such as:\n",
    "  - Very long delivery times with high scores\n",
    "  - Very short deliveries with unexpectedly low scores\n",
    "\n",
    "These may indicate data errors, inconsistent customer behavior, or exceptional service cases worth further analysis.\n"
   ]
  }
 ],
 "metadata": {
  "kernelspec": {
   "display_name": "Python (myenv)",
   "language": "python",
   "name": "myenv"
  },
  "language_info": {
   "codemirror_mode": {
    "name": "ipython",
    "version": 3
   },
   "file_extension": ".py",
   "mimetype": "text/x-python",
   "name": "python",
   "nbconvert_exporter": "python",
   "pygments_lexer": "ipython3",
   "version": "3.11.5"
  }
 },
 "nbformat": 4,
 "nbformat_minor": 5
}
